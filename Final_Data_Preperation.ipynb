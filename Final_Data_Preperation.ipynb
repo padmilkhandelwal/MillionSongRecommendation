{
  "nbformat": 4,
  "nbformat_minor": 0,
  "metadata": {
    "colab": {
      "name": "Final Data Preperation",
      "provenance": [],
      "collapsed_sections": [],
      "toc_visible": true,
      "machine_shape": "hm",
      "include_colab_link": true
    },
    "kernelspec": {
      "name": "python3",
      "display_name": "Python 3"
    }
  },
  "cells": [
    {
      "cell_type": "markdown",
      "metadata": {
        "id": "view-in-github",
        "colab_type": "text"
      },
      "source": [
        "<a href=\"https://colab.research.google.com/github/padmilkhandelwal/MillionSongRecommendation/blob/master/Final_Data_Preperation.ipynb\" target=\"_parent\"><img src=\"https://colab.research.google.com/assets/colab-badge.svg\" alt=\"Open In Colab\"/></a>"
      ]
    },
    {
      "cell_type": "code",
      "metadata": {
        "id": "bMnrUCZGgnq3",
        "colab_type": "code",
        "colab": {
          "base_uri": "https://localhost:8080/",
          "height": 120
        },
        "outputId": "e54a36ca-d0b7-4a5f-f52d-892a1189134d"
      },
      "source": [
        "from google.colab import drive\n",
        "drive.mount('/content/drive')"
      ],
      "execution_count": null,
      "outputs": [
        {
          "output_type": "stream",
          "text": [
            "Go to this URL in a browser: https://accounts.google.com/o/oauth2/auth?client_id=947318989803-6bn6qk8qdgf4n4g3pfee6491hc0brc4i.apps.googleusercontent.com&redirect_uri=urn%3aietf%3awg%3aoauth%3a2.0%3aoob&response_type=code&scope=email%20https%3a%2f%2fwww.googleapis.com%2fauth%2fdocs.test%20https%3a%2f%2fwww.googleapis.com%2fauth%2fdrive%20https%3a%2f%2fwww.googleapis.com%2fauth%2fdrive.photos.readonly%20https%3a%2f%2fwww.googleapis.com%2fauth%2fpeopleapi.readonly\n",
            "\n",
            "Enter your authorization code:\n",
            "··········\n",
            "Mounted at /content/drive\n"
          ],
          "name": "stdout"
        }
      ]
    },
    {
      "cell_type": "code",
      "metadata": {
        "id": "GrrhFL4QJIbU",
        "colab_type": "code",
        "colab": {
          "base_uri": "https://localhost:8080/",
          "height": 187
        },
        "outputId": "d183b4ea-055a-4c59-e0d8-9829fc11bf71"
      },
      "source": [
        "#Importing all the ncessary libraries \n",
        "import pandas as pd\n",
        "import matplotlib.pyplot as plt\n",
        "import numpy as np\n",
        "import scipy.stats as st\n",
        "import seaborn as sns\n",
        "import nltk\n",
        "import string\n",
        "import sqlite3 as sql\n",
        "nltk.download('stopwords')\n",
        "nltk.download('averaged_perceptron_tagger')\n",
        "nltk.download('wordnet')\n",
        "from nltk.corpus import stopwords \n",
        "from nltk.tokenize import word_tokenize\n",
        "from nltk.stem import WordNetLemmatizer\n",
        "from nltk.stem import PorterStemmer\n",
        "from collections import Counter\n",
        "from sklearn.feature_extraction.text import TfidfVectorizer\n",
        "from sklearn.ensemble import RandomForestClassifier\n",
        "from sklearn.model_selection import train_test_split\n",
        "from sklearn.metrics import confusion_matrix\n",
        "import random\n",
        "from string import punctuation\n",
        "\n",
        "import warnings\n",
        "warnings.simplefilter('ignore')"
      ],
      "execution_count": null,
      "outputs": [
        {
          "output_type": "stream",
          "text": [
            "/usr/local/lib/python3.6/dist-packages/statsmodels/tools/_testing.py:19: FutureWarning: pandas.util.testing is deprecated. Use the functions in the public API at pandas.testing instead.\n",
            "  import pandas.util.testing as tm\n"
          ],
          "name": "stderr"
        },
        {
          "output_type": "stream",
          "text": [
            "[nltk_data] Downloading package stopwords to /root/nltk_data...\n",
            "[nltk_data]   Unzipping corpora/stopwords.zip.\n",
            "[nltk_data] Downloading package averaged_perceptron_tagger to\n",
            "[nltk_data]     /root/nltk_data...\n",
            "[nltk_data]   Unzipping taggers/averaged_perceptron_tagger.zip.\n",
            "[nltk_data] Downloading package wordnet to /root/nltk_data...\n",
            "[nltk_data]   Unzipping corpora/wordnet.zip.\n"
          ],
          "name": "stdout"
        }
      ]
    },
    {
      "cell_type": "markdown",
      "metadata": {
        "id": "UvqZf-q0Ul1C",
        "colab_type": "text"
      },
      "source": [
        "**Load User Profile Data**\n",
        "\n",
        "From train_triplets.csv"
      ]
    },
    {
      "cell_type": "code",
      "metadata": {
        "id": "rcL2z62D1oCG",
        "colab_type": "code",
        "colab": {}
      },
      "source": [
        "# lyrics_metadata=pd.read_csv('/content/drive/My Drive/ADS/final/df_metadata_topic_all.csv')\n",
        "\n",
        "# print(lyrics_metadata.shape)\n",
        "# lyrics_metadata.head()\n",
        "\n"
      ],
      "execution_count": null,
      "outputs": []
    },
    {
      "cell_type": "code",
      "metadata": {
        "id": "rHba6io4WDYq",
        "colab_type": "code",
        "colab": {}
      },
      "source": [
        "database1 = \"/content/drive/My Drive/ADS/mxm_dataset.db\"\n",
        "connection1 = sql.connect(database1)\n",
        "query1 = '''SELECT * FROM lyrics'''\n",
        "df_lyrics = pd.read_sql(query1,connection1)"
      ],
      "execution_count": null,
      "outputs": []
    },
    {
      "cell_type": "code",
      "metadata": {
        "id": "i8EI_0mx9yE3",
        "colab_type": "code",
        "colab": {}
      },
      "source": [
        "database2 = \"/content/drive/My Drive/ADS/track_metadata.db\"\n",
        "connection2=sql.connect(database2)\n",
        "query2 = '''SELECT * FROM songs'''\n",
        "df_metadata= pd.read_sql(query2,connection2)"
      ],
      "execution_count": null,
      "outputs": []
    },
    {
      "cell_type": "code",
      "metadata": {
        "id": "ya7N5UwDCYCD",
        "colab_type": "code",
        "colab": {}
      },
      "source": [
        "lyrics_metadata=df_metadata[df_metadata['track_id'].isin(df_lyrics['track_id'].unique())]"
      ],
      "execution_count": null,
      "outputs": []
    },
    {
      "cell_type": "code",
      "metadata": {
        "id": "D5lbRvFO90Jr",
        "colab_type": "code",
        "colab": {
          "base_uri": "https://localhost:8080/",
          "height": 150
        },
        "outputId": "f3f94bff-62cc-4200-ce15-30d67c53e9b7"
      },
      "source": [
        "#Importing all the ncessary libraries \n",
        "import pandas as pd\n",
        "import matplotlib.pyplot as plt\n",
        "import numpy as np\n",
        "import scipy.stats as st\n",
        "import seaborn as sns\n",
        "import nltk\n",
        "import string\n",
        "import sqlite3 as sql\n",
        "nltk.download('stopwords')\n",
        "nltk.download('averaged_perceptron_tagger')\n",
        "nltk.download('wordnet')\n",
        "from nltk.corpus import stopwords \n",
        "from nltk.tokenize import word_tokenize\n",
        "from nltk.stem import WordNetLemmatizer\n",
        "from nltk.stem import PorterStemmer\n",
        "from collections import Counter\n",
        "from sklearn.feature_extraction.text import TfidfVectorizer\n",
        "from sklearn.ensemble import RandomForestClassifier\n",
        "from sklearn.model_selection import train_test_split\n",
        "from sklearn.metrics import confusion_matrix\n",
        "import random\n",
        "from string import punctuation\n",
        "\n",
        "import warnings\n",
        "warnings.simplefilter('ignore')"
      ],
      "execution_count": null,
      "outputs": [
        {
          "output_type": "stream",
          "text": [
            "[nltk_data] Downloading package stopwords to /root/nltk_data...\n",
            "[nltk_data]   Package stopwords is already up-to-date!\n",
            "[nltk_data] Downloading package averaged_perceptron_tagger to\n",
            "[nltk_data]     /root/nltk_data...\n",
            "[nltk_data]   Package averaged_perceptron_tagger is already up-to-\n",
            "[nltk_data]       date!\n",
            "[nltk_data] Downloading package wordnet to /root/nltk_data...\n",
            "[nltk_data]   Package wordnet is already up-to-date!\n"
          ],
          "name": "stdout"
        }
      ]
    },
    {
      "cell_type": "markdown",
      "metadata": {
        "id": "drWb2_CGr7T5",
        "colab_type": "text"
      },
      "source": [
        "#Change Variables"
      ]
    },
    {
      "cell_type": "code",
      "metadata": {
        "id": "TbfWueznsBLO",
        "colab_type": "code",
        "colab": {}
      },
      "source": [
        "Num=400\n",
        "user_count=10\n",
        "\n",
        "#lyrics_metadata=df_metadata"
      ],
      "execution_count": null,
      "outputs": []
    },
    {
      "cell_type": "code",
      "metadata": {
        "id": "fOc0VThURqmV",
        "colab_type": "code",
        "colab": {
          "base_uri": "https://localhost:8080/",
          "height": 404
        },
        "outputId": "ab0186b4-692a-4fa0-a99d-63796725d50c"
      },
      "source": [
        "initial_hidden=pd.read_csv(\"/content/drive/My Drive/ADS/Test Data/year1_test_triplets_hidden.txt\",sep=\"\\t\")\n",
        "initial_hidden.columns=['user_id','song_id','freq_song']\n",
        "initial_hidden\n"
      ],
      "execution_count": null,
      "outputs": [
        {
          "output_type": "execute_result",
          "data": {
            "text/html": [
              "<div>\n",
              "<style scoped>\n",
              "    .dataframe tbody tr th:only-of-type {\n",
              "        vertical-align: middle;\n",
              "    }\n",
              "\n",
              "    .dataframe tbody tr th {\n",
              "        vertical-align: top;\n",
              "    }\n",
              "\n",
              "    .dataframe thead th {\n",
              "        text-align: right;\n",
              "    }\n",
              "</style>\n",
              "<table border=\"1\" class=\"dataframe\">\n",
              "  <thead>\n",
              "    <tr style=\"text-align: right;\">\n",
              "      <th></th>\n",
              "      <th>user_id</th>\n",
              "      <th>song_id</th>\n",
              "      <th>freq_song</th>\n",
              "    </tr>\n",
              "  </thead>\n",
              "  <tbody>\n",
              "    <tr>\n",
              "      <th>0</th>\n",
              "      <td>00007a02388c208ea7176479f6ae06f8224355b3</td>\n",
              "      <td>SOIHOIQ12A8C138593</td>\n",
              "      <td>2</td>\n",
              "    </tr>\n",
              "    <tr>\n",
              "      <th>1</th>\n",
              "      <td>00007a02388c208ea7176479f6ae06f8224355b3</td>\n",
              "      <td>SOYIZSN12A6701E0BB</td>\n",
              "      <td>3</td>\n",
              "    </tr>\n",
              "    <tr>\n",
              "      <th>2</th>\n",
              "      <td>00007a02388c208ea7176479f6ae06f8224355b3</td>\n",
              "      <td>SODYZAD12A58A7A525</td>\n",
              "      <td>1</td>\n",
              "    </tr>\n",
              "    <tr>\n",
              "      <th>3</th>\n",
              "      <td>00007a02388c208ea7176479f6ae06f8224355b3</td>\n",
              "      <td>SOXLWPN12A8C143667</td>\n",
              "      <td>1</td>\n",
              "    </tr>\n",
              "    <tr>\n",
              "      <th>4</th>\n",
              "      <td>00007a02388c208ea7176479f6ae06f8224355b3</td>\n",
              "      <td>SOOHJTL12AB0185497</td>\n",
              "      <td>1</td>\n",
              "    </tr>\n",
              "    <tr>\n",
              "      <th>...</th>\n",
              "      <td>...</td>\n",
              "      <td>...</td>\n",
              "      <td>...</td>\n",
              "    </tr>\n",
              "    <tr>\n",
              "      <th>1368424</th>\n",
              "      <td>ffff07d7d9bb187aa58c7b81b3d3f35e7cf7c0ee</td>\n",
              "      <td>SOETHAV12AB0183107</td>\n",
              "      <td>1</td>\n",
              "    </tr>\n",
              "    <tr>\n",
              "      <th>1368425</th>\n",
              "      <td>ffff07d7d9bb187aa58c7b81b3d3f35e7cf7c0ee</td>\n",
              "      <td>SONPDVJ12A67ADA231</td>\n",
              "      <td>1</td>\n",
              "    </tr>\n",
              "    <tr>\n",
              "      <th>1368426</th>\n",
              "      <td>ffff07d7d9bb187aa58c7b81b3d3f35e7cf7c0ee</td>\n",
              "      <td>SOKAESA12A8C1410A1</td>\n",
              "      <td>1</td>\n",
              "    </tr>\n",
              "    <tr>\n",
              "      <th>1368427</th>\n",
              "      <td>ffff07d7d9bb187aa58c7b81b3d3f35e7cf7c0ee</td>\n",
              "      <td>SOPQLBY12A6310E992</td>\n",
              "      <td>1</td>\n",
              "    </tr>\n",
              "    <tr>\n",
              "      <th>1368428</th>\n",
              "      <td>ffff07d7d9bb187aa58c7b81b3d3f35e7cf7c0ee</td>\n",
              "      <td>SOHEROV12A8C13A430</td>\n",
              "      <td>1</td>\n",
              "    </tr>\n",
              "  </tbody>\n",
              "</table>\n",
              "<p>1368429 rows × 3 columns</p>\n",
              "</div>"
            ],
            "text/plain": [
              "                                          user_id  ... freq_song\n",
              "0        00007a02388c208ea7176479f6ae06f8224355b3  ...         2\n",
              "1        00007a02388c208ea7176479f6ae06f8224355b3  ...         3\n",
              "2        00007a02388c208ea7176479f6ae06f8224355b3  ...         1\n",
              "3        00007a02388c208ea7176479f6ae06f8224355b3  ...         1\n",
              "4        00007a02388c208ea7176479f6ae06f8224355b3  ...         1\n",
              "...                                           ...  ...       ...\n",
              "1368424  ffff07d7d9bb187aa58c7b81b3d3f35e7cf7c0ee  ...         1\n",
              "1368425  ffff07d7d9bb187aa58c7b81b3d3f35e7cf7c0ee  ...         1\n",
              "1368426  ffff07d7d9bb187aa58c7b81b3d3f35e7cf7c0ee  ...         1\n",
              "1368427  ffff07d7d9bb187aa58c7b81b3d3f35e7cf7c0ee  ...         1\n",
              "1368428  ffff07d7d9bb187aa58c7b81b3d3f35e7cf7c0ee  ...         1\n",
              "\n",
              "[1368429 rows x 3 columns]"
            ]
          },
          "metadata": {
            "tags": []
          },
          "execution_count": 8
        }
      ]
    },
    {
      "cell_type": "code",
      "metadata": {
        "id": "7kokmUNbSBGc",
        "colab_type": "code",
        "colab": {
          "base_uri": "https://localhost:8080/",
          "height": 33
        },
        "outputId": "15eb36a9-9c8f-4096-8b4e-6aeea9cb7dfe"
      },
      "source": [
        "initial_visible=pd.read_csv(\"/content/drive/My Drive/ADS/Test Data/year1_test_triplets_visible.txt\",sep=\"\\t\")\n",
        "initial_visible.columns=['user_id','song_id','freq_song']\n",
        "print(initial_visible.shape)\n",
        "\n"
      ],
      "execution_count": null,
      "outputs": [
        {
          "output_type": "stream",
          "text": [
            "(1319893, 3)\n"
          ],
          "name": "stdout"
        }
      ]
    },
    {
      "cell_type": "markdown",
      "metadata": {
        "id": "4TniJRzBcJFl",
        "colab_type": "text"
      },
      "source": [
        "#Filter Songs Available in Lyrical Metadata"
      ]
    },
    {
      "cell_type": "code",
      "metadata": {
        "id": "4bzMwM1McS2k",
        "colab_type": "code",
        "colab": {
          "base_uri": "https://localhost:8080/",
          "height": 50
        },
        "outputId": "c47c3ac9-0a8e-4e4f-f28c-9648efc424a8"
      },
      "source": [
        "initial_visible=initial_visible[initial_visible['song_id'].isin(lyrics_metadata['song_id'])]\n",
        "initial_hidden=initial_hidden[initial_hidden['song_id'].isin(lyrics_metadata['song_id'])]\n",
        "\n",
        "print(initial_visible.shape)\n",
        "print(initial_hidden.shape)"
      ],
      "execution_count": null,
      "outputs": [
        {
          "output_type": "stream",
          "text": [
            "(695151, 3)\n",
            "(720623, 3)\n"
          ],
          "name": "stdout"
        }
      ]
    },
    {
      "cell_type": "code",
      "metadata": {
        "id": "cG6WWdT94mTD",
        "colab_type": "code",
        "colab": {}
      },
      "source": [
        "def create_popularity_recommendation(train_data, user_id, item_id, n=10):\n",
        "    #Get a count of user_ids for each unique song as recommendation score\n",
        "    train_data_grouped = train_data.groupby([item_id]).agg({user_id: 'count'}).reset_index()\n",
        "    train_data_grouped.rename(columns = {user_id: 'score'},inplace=True)\n",
        "    \n",
        "    #Sort the songs based upon recommendation score\n",
        "    train_data_sort = train_data_grouped.sort_values(['score', item_id], ascending = [0,1])\n",
        "    \n",
        "    #Generate a recommendation rank based upon score\n",
        "    train_data_sort['Rank'] = train_data_sort.score.rank(ascending=0, method='first')\n",
        "    \n",
        "     #Get the top n recommendations\n",
        "    popularity_recommendations = train_data_sort.head(n)\n",
        "    return popularity_recommendations\n",
        "\n"
      ],
      "execution_count": null,
      "outputs": []
    },
    {
      "cell_type": "code",
      "metadata": {
        "id": "NPWatU9s5BTO",
        "colab_type": "code",
        "colab": {}
      },
      "source": [
        "popular_visible = create_popularity_recommendation(initial_visible,'user_id','song_id', Num).reset_index(drop=True)\n",
        "popular_hidden= create_popularity_recommendation(initial_hidden,'user_id','song_id', Num).reset_index(drop=True)"
      ],
      "execution_count": null,
      "outputs": []
    },
    {
      "cell_type": "markdown",
      "metadata": {
        "id": "1HqfBX_2dJ9D",
        "colab_type": "text"
      },
      "source": [
        "Randomly Select 1000 Songs from Popular"
      ]
    },
    {
      "cell_type": "code",
      "metadata": {
        "id": "cmJ6RWsKdVsO",
        "colab_type": "code",
        "colab": {
          "base_uri": "https://localhost:8080/",
          "height": 33
        },
        "outputId": "ffc4c4cc-2f5a-4c56-8dbd-da384a0a1ecf"
      },
      "source": [
        "visible_sample=popular_visible.sample(int(Num/2),random_state=576) \n",
        "visible_sample.shape"
      ],
      "execution_count": null,
      "outputs": [
        {
          "output_type": "execute_result",
          "data": {
            "text/plain": [
              "(200, 3)"
            ]
          },
          "metadata": {
            "tags": []
          },
          "execution_count": 13
        }
      ]
    },
    {
      "cell_type": "code",
      "metadata": {
        "id": "2tGgsjUFexOM",
        "colab_type": "code",
        "colab": {}
      },
      "source": [
        "selected_visible_Songs=visible_sample['song_id'].unique()\n",
        "not_selected_visible_songs=popular_hidden[~popular_hidden['song_id'].isin(selected_visible_Songs)]['song_id']"
      ],
      "execution_count": null,
      "outputs": []
    },
    {
      "cell_type": "code",
      "metadata": {
        "id": "XJlluJk8fuG_",
        "colab_type": "code",
        "colab": {
          "base_uri": "https://localhost:8080/",
          "height": 33
        },
        "outputId": "ec8c51a3-3c4c-4c9b-9aab-aae8d4b37e1c"
      },
      "source": [
        "not_selected_visible_songs.shape"
      ],
      "execution_count": null,
      "outputs": [
        {
          "output_type": "execute_result",
          "data": {
            "text/plain": [
              "(213,)"
            ]
          },
          "metadata": {
            "tags": []
          },
          "execution_count": 15
        }
      ]
    },
    {
      "cell_type": "code",
      "metadata": {
        "id": "Gy4DzQQB6q4F",
        "colab_type": "code",
        "colab": {
          "base_uri": "https://localhost:8080/",
          "height": 33
        },
        "outputId": "57b39002-affb-47fc-8087-accf5350b480"
      },
      "source": [
        "df_valid_visible=initial_visible[initial_visible['song_id'].isin(selected_visible_Songs)]\n",
        "display(df_valid_visible.shape)"
      ],
      "execution_count": null,
      "outputs": [
        {
          "output_type": "display_data",
          "data": {
            "text/plain": [
              "(79843, 3)"
            ]
          },
          "metadata": {
            "tags": []
          }
        }
      ]
    },
    {
      "cell_type": "code",
      "metadata": {
        "id": "noXpp5io6pBu",
        "colab_type": "code",
        "colab": {
          "base_uri": "https://localhost:8080/",
          "height": 33
        },
        "outputId": "98a4af97-00f2-4e79-ea52-13192841e368"
      },
      "source": [
        "df_valid_hidden=initial_hidden[initial_hidden['song_id'].isin(not_selected_visible_songs)]\n",
        "display(df_valid_hidden.shape)"
      ],
      "execution_count": null,
      "outputs": [
        {
          "output_type": "display_data",
          "data": {
            "text/plain": [
              "(81519, 3)"
            ]
          },
          "metadata": {
            "tags": []
          }
        }
      ]
    },
    {
      "cell_type": "code",
      "metadata": {
        "id": "YL_cI1wx4syv",
        "colab_type": "code",
        "colab": {
          "base_uri": "https://localhost:8080/",
          "height": 50
        },
        "outputId": "1f634fab-e975-40ef-f425-b8b55162f180"
      },
      "source": [
        "unique_users_visible=df_valid_visible['user_id'].unique()\n",
        "unique_songs_visible=df_valid_visible['song_id'].unique()\n",
        "unique_users_hidden=df_valid_hidden['user_id'].unique()\n",
        "unique_songs_hidden=df_valid_hidden['song_id'].unique()\n",
        "\n",
        "print(len(unique_songs_visible))\n",
        "print(len(unique_songs_hidden))"
      ],
      "execution_count": null,
      "outputs": [
        {
          "output_type": "stream",
          "text": [
            "200\n",
            "213\n"
          ],
          "name": "stdout"
        }
      ]
    },
    {
      "cell_type": "code",
      "metadata": {
        "id": "2bLSVXVRSu6_",
        "colab_type": "code",
        "colab": {
          "base_uri": "https://localhost:8080/",
          "height": 33
        },
        "outputId": "bbb2cacd-3400-4b2f-e54a-1b8c36a4a924"
      },
      "source": [
        "unique_users_hidden.sort() \n",
        "unique_users_visible.sort() \n",
        "\n",
        "unique_users_hidden==unique_users_visible"
      ],
      "execution_count": null,
      "outputs": [
        {
          "output_type": "execute_result",
          "data": {
            "text/plain": [
              "False"
            ]
          },
          "metadata": {
            "tags": []
          },
          "execution_count": 19
        }
      ]
    },
    {
      "cell_type": "code",
      "metadata": {
        "id": "GUUh9IZ6bxuY",
        "colab_type": "code",
        "colab": {}
      },
      "source": [
        "# unique_songs_hidden.sort() \n",
        "# unique_songs_visible.sort() \n",
        "\n",
        "# unique_songs_hidden==unique_songs_visible"
      ],
      "execution_count": null,
      "outputs": []
    },
    {
      "cell_type": "markdown",
      "metadata": {
        "id": "j-hieiBacfZF",
        "colab_type": "text"
      },
      "source": [
        "#Songs per User\n",
        "Filter Users available in Hidden Songs\n",
        "Make Sure Users in Visible and Hidden dataset are same\n"
      ]
    },
    {
      "cell_type": "code",
      "metadata": {
        "id": "-Gi644jpS7tf",
        "colab_type": "code",
        "colab": {}
      },
      "source": [
        "df_valid_hidden=df_valid_hidden[df_valid_hidden['user_id'].isin(unique_users_visible)]"
      ],
      "execution_count": null,
      "outputs": []
    },
    {
      "cell_type": "code",
      "metadata": {
        "id": "YYroUzpISO42",
        "colab_type": "code",
        "colab": {
          "base_uri": "https://localhost:8080/",
          "height": 286
        },
        "outputId": "634d9ad3-2ca1-45f0-d3ea-8be27e7a0d3c"
      },
      "source": [
        "songs_per_user_visible=df_valid_visible.groupby(by=['user_id'])['song_id'].count()\n",
        "df_no_songs_per_user_visible=pd.DataFrame(songs_per_user_visible)\n",
        "df_no_songs_per_user_visible.describe()"
      ],
      "execution_count": null,
      "outputs": [
        {
          "output_type": "execute_result",
          "data": {
            "text/html": [
              "<div>\n",
              "<style scoped>\n",
              "    .dataframe tbody tr th:only-of-type {\n",
              "        vertical-align: middle;\n",
              "    }\n",
              "\n",
              "    .dataframe tbody tr th {\n",
              "        vertical-align: top;\n",
              "    }\n",
              "\n",
              "    .dataframe thead th {\n",
              "        text-align: right;\n",
              "    }\n",
              "</style>\n",
              "<table border=\"1\" class=\"dataframe\">\n",
              "  <thead>\n",
              "    <tr style=\"text-align: right;\">\n",
              "      <th></th>\n",
              "      <th>song_id</th>\n",
              "    </tr>\n",
              "  </thead>\n",
              "  <tbody>\n",
              "    <tr>\n",
              "      <th>count</th>\n",
              "      <td>44365.000000</td>\n",
              "    </tr>\n",
              "    <tr>\n",
              "      <th>mean</th>\n",
              "      <td>1.799684</td>\n",
              "    </tr>\n",
              "    <tr>\n",
              "      <th>std</th>\n",
              "      <td>1.239261</td>\n",
              "    </tr>\n",
              "    <tr>\n",
              "      <th>min</th>\n",
              "      <td>1.000000</td>\n",
              "    </tr>\n",
              "    <tr>\n",
              "      <th>25%</th>\n",
              "      <td>1.000000</td>\n",
              "    </tr>\n",
              "    <tr>\n",
              "      <th>50%</th>\n",
              "      <td>1.000000</td>\n",
              "    </tr>\n",
              "    <tr>\n",
              "      <th>75%</th>\n",
              "      <td>2.000000</td>\n",
              "    </tr>\n",
              "    <tr>\n",
              "      <th>max</th>\n",
              "      <td>16.000000</td>\n",
              "    </tr>\n",
              "  </tbody>\n",
              "</table>\n",
              "</div>"
            ],
            "text/plain": [
              "            song_id\n",
              "count  44365.000000\n",
              "mean       1.799684\n",
              "std        1.239261\n",
              "min        1.000000\n",
              "25%        1.000000\n",
              "50%        1.000000\n",
              "75%        2.000000\n",
              "max       16.000000"
            ]
          },
          "metadata": {
            "tags": []
          },
          "execution_count": 22
        }
      ]
    },
    {
      "cell_type": "code",
      "metadata": {
        "id": "CksVYyDKbLnY",
        "colab_type": "code",
        "colab": {
          "base_uri": "https://localhost:8080/",
          "height": 286
        },
        "outputId": "c45d158f-60e6-420e-80de-42e857b2128d"
      },
      "source": [
        "songs_per_user_hidden=df_valid_hidden.groupby(by=['user_id'])['song_id'].count()\n",
        "df_no_songs_per_user_hidden=pd.DataFrame(songs_per_user_hidden)\n",
        "df_no_songs_per_user_hidden.describe()"
      ],
      "execution_count": null,
      "outputs": [
        {
          "output_type": "execute_result",
          "data": {
            "text/html": [
              "<div>\n",
              "<style scoped>\n",
              "    .dataframe tbody tr th:only-of-type {\n",
              "        vertical-align: middle;\n",
              "    }\n",
              "\n",
              "    .dataframe tbody tr th {\n",
              "        vertical-align: top;\n",
              "    }\n",
              "\n",
              "    .dataframe thead th {\n",
              "        text-align: right;\n",
              "    }\n",
              "</style>\n",
              "<table border=\"1\" class=\"dataframe\">\n",
              "  <thead>\n",
              "    <tr style=\"text-align: right;\">\n",
              "      <th></th>\n",
              "      <th>song_id</th>\n",
              "    </tr>\n",
              "  </thead>\n",
              "  <tbody>\n",
              "    <tr>\n",
              "      <th>count</th>\n",
              "      <td>28342.000000</td>\n",
              "    </tr>\n",
              "    <tr>\n",
              "      <th>mean</th>\n",
              "      <td>2.021205</td>\n",
              "    </tr>\n",
              "    <tr>\n",
              "      <th>std</th>\n",
              "      <td>1.355175</td>\n",
              "    </tr>\n",
              "    <tr>\n",
              "      <th>min</th>\n",
              "      <td>1.000000</td>\n",
              "    </tr>\n",
              "    <tr>\n",
              "      <th>25%</th>\n",
              "      <td>1.000000</td>\n",
              "    </tr>\n",
              "    <tr>\n",
              "      <th>50%</th>\n",
              "      <td>2.000000</td>\n",
              "    </tr>\n",
              "    <tr>\n",
              "      <th>75%</th>\n",
              "      <td>3.000000</td>\n",
              "    </tr>\n",
              "    <tr>\n",
              "      <th>max</th>\n",
              "      <td>15.000000</td>\n",
              "    </tr>\n",
              "  </tbody>\n",
              "</table>\n",
              "</div>"
            ],
            "text/plain": [
              "            song_id\n",
              "count  28342.000000\n",
              "mean       2.021205\n",
              "std        1.355175\n",
              "min        1.000000\n",
              "25%        1.000000\n",
              "50%        2.000000\n",
              "75%        3.000000\n",
              "max       15.000000"
            ]
          },
          "metadata": {
            "tags": []
          },
          "execution_count": 23
        }
      ]
    },
    {
      "cell_type": "markdown",
      "metadata": {
        "id": "F1ywfc02i8Ql",
        "colab_type": "text"
      },
      "source": [
        "#Filter Users in VISIBLE ( > n songs per user )"
      ]
    },
    {
      "cell_type": "code",
      "metadata": {
        "id": "ySlwAuCLfkoT",
        "colab_type": "code",
        "colab": {
          "base_uri": "https://localhost:8080/",
          "height": 134
        },
        "outputId": "abc21989-839c-4321-be24-d941814e8e8a"
      },
      "source": [
        "df_track_visible=df_no_songs_per_user_visible[df_no_songs_per_user_visible['song_id']>user_count]\n",
        "df_filtered_visible=df_track_visible.reset_index()['user_id']\n",
        "display(df_filtered_visible.head())\n",
        "len(df_filtered_visible)"
      ],
      "execution_count": null,
      "outputs": [
        {
          "output_type": "display_data",
          "data": {
            "text/plain": [
              "0    01047b99e00bb0743f66bb321bdd62e38fddb0a5\n",
              "1    126ee2cc7dfb9bfb8e831633a5443a9b2b7490c0\n",
              "2    1b8c08ef0705ff5b9329c175904e3c48d8f6b116\n",
              "3    206bd0676fe110325996506f393538fbf422549e\n",
              "4    291a37c97bedabb862b2f6bad7f439cf72123d84\n",
              "Name: user_id, dtype: object"
            ]
          },
          "metadata": {
            "tags": []
          }
        },
        {
          "output_type": "execute_result",
          "data": {
            "text/plain": [
              "31"
            ]
          },
          "metadata": {
            "tags": []
          },
          "execution_count": 24
        }
      ]
    },
    {
      "cell_type": "code",
      "metadata": {
        "id": "TT5vwt7ZhNX6",
        "colab_type": "code",
        "colab": {}
      },
      "source": [
        "filtered_users_visible=df_valid_visible[df_valid_visible['user_id'].isin(df_filtered_visible)]\n",
        "len(filtered_users_visible)\n",
        "filtered_unique_songs_visible=filtered_users_visible['song_id'].unique()"
      ],
      "execution_count": null,
      "outputs": []
    },
    {
      "cell_type": "code",
      "metadata": {
        "id": "woA5pcpmiA7t",
        "colab_type": "code",
        "colab": {
          "base_uri": "https://localhost:8080/",
          "height": 196
        },
        "outputId": "50e53748-6093-44d4-c582-5c43bbad3a60"
      },
      "source": [
        "filtered_users_visible.head()"
      ],
      "execution_count": null,
      "outputs": [
        {
          "output_type": "execute_result",
          "data": {
            "text/html": [
              "<div>\n",
              "<style scoped>\n",
              "    .dataframe tbody tr th:only-of-type {\n",
              "        vertical-align: middle;\n",
              "    }\n",
              "\n",
              "    .dataframe tbody tr th {\n",
              "        vertical-align: top;\n",
              "    }\n",
              "\n",
              "    .dataframe thead th {\n",
              "        text-align: right;\n",
              "    }\n",
              "</style>\n",
              "<table border=\"1\" class=\"dataframe\">\n",
              "  <thead>\n",
              "    <tr style=\"text-align: right;\">\n",
              "      <th></th>\n",
              "      <th>user_id</th>\n",
              "      <th>song_id</th>\n",
              "      <th>freq_song</th>\n",
              "    </tr>\n",
              "  </thead>\n",
              "  <tbody>\n",
              "    <tr>\n",
              "      <th>5769</th>\n",
              "      <td>01047b99e00bb0743f66bb321bdd62e38fddb0a5</td>\n",
              "      <td>SONNSYV12A8C146BEC</td>\n",
              "      <td>1</td>\n",
              "    </tr>\n",
              "    <tr>\n",
              "      <th>5773</th>\n",
              "      <td>01047b99e00bb0743f66bb321bdd62e38fddb0a5</td>\n",
              "      <td>SODCADR12AF72A1A99</td>\n",
              "      <td>1</td>\n",
              "    </tr>\n",
              "    <tr>\n",
              "      <th>5774</th>\n",
              "      <td>01047b99e00bb0743f66bb321bdd62e38fddb0a5</td>\n",
              "      <td>SODJWHY12A8C142CCE</td>\n",
              "      <td>3</td>\n",
              "    </tr>\n",
              "    <tr>\n",
              "      <th>5777</th>\n",
              "      <td>01047b99e00bb0743f66bb321bdd62e38fddb0a5</td>\n",
              "      <td>SOJZFQA12AB017BFB0</td>\n",
              "      <td>1</td>\n",
              "    </tr>\n",
              "    <tr>\n",
              "      <th>5778</th>\n",
              "      <td>01047b99e00bb0743f66bb321bdd62e38fddb0a5</td>\n",
              "      <td>SOPSYOY12A8C142E0B</td>\n",
              "      <td>1</td>\n",
              "    </tr>\n",
              "  </tbody>\n",
              "</table>\n",
              "</div>"
            ],
            "text/plain": [
              "                                       user_id             song_id  freq_song\n",
              "5769  01047b99e00bb0743f66bb321bdd62e38fddb0a5  SONNSYV12A8C146BEC          1\n",
              "5773  01047b99e00bb0743f66bb321bdd62e38fddb0a5  SODCADR12AF72A1A99          1\n",
              "5774  01047b99e00bb0743f66bb321bdd62e38fddb0a5  SODJWHY12A8C142CCE          3\n",
              "5777  01047b99e00bb0743f66bb321bdd62e38fddb0a5  SOJZFQA12AB017BFB0          1\n",
              "5778  01047b99e00bb0743f66bb321bdd62e38fddb0a5  SOPSYOY12A8C142E0B          1"
            ]
          },
          "metadata": {
            "tags": []
          },
          "execution_count": 26
        }
      ]
    },
    {
      "cell_type": "code",
      "metadata": {
        "id": "InLZAU_GiQdE",
        "colab_type": "code",
        "colab": {
          "base_uri": "https://localhost:8080/",
          "height": 33
        },
        "outputId": "24b74ff7-757f-45ed-d0fc-f31286be6ed5"
      },
      "source": [
        "filtered_users_visible.shape"
      ],
      "execution_count": null,
      "outputs": [
        {
          "output_type": "execute_result",
          "data": {
            "text/plain": [
              "(369, 3)"
            ]
          },
          "metadata": {
            "tags": []
          },
          "execution_count": 27
        }
      ]
    },
    {
      "cell_type": "markdown",
      "metadata": {
        "id": "Z5tozUhOg28C",
        "colab_type": "text"
      },
      "source": [
        "Filter hidden users based on filtered in visible users and their songs"
      ]
    },
    {
      "cell_type": "code",
      "metadata": {
        "id": "B5EQZoXKfKCH",
        "colab_type": "code",
        "colab": {
          "base_uri": "https://localhost:8080/",
          "height": 33
        },
        "outputId": "b1a62ce7-ac55-402c-c22a-ec9452f4635c"
      },
      "source": [
        "filtered_users_hidden=df_valid_hidden[df_valid_hidden['user_id'].isin(df_filtered_visible)]\n",
        "len(filtered_users_hidden)"
      ],
      "execution_count": null,
      "outputs": [
        {
          "output_type": "execute_result",
          "data": {
            "text/plain": [
              "277"
            ]
          },
          "metadata": {
            "tags": []
          },
          "execution_count": 28
        }
      ]
    },
    {
      "cell_type": "code",
      "metadata": {
        "id": "BzRtApKwhvsi",
        "colab_type": "code",
        "colab": {
          "base_uri": "https://localhost:8080/",
          "height": 84
        },
        "outputId": "ce57d4cc-8d80-4dfa-bd1a-9c454f2bcb2f"
      },
      "source": [
        "#Check if both have same users but different songs\n",
        "filtered_users_hidden['user_id'].unique()==filtered_users_visible['user_id'].unique()"
      ],
      "execution_count": null,
      "outputs": [
        {
          "output_type": "execute_result",
          "data": {
            "text/plain": [
              "array([ True,  True,  True,  True,  True,  True,  True,  True,  True,\n",
              "        True,  True,  True,  True,  True,  True,  True,  True,  True,\n",
              "        True,  True,  True,  True,  True,  True,  True,  True,  True,\n",
              "        True,  True,  True,  True])"
            ]
          },
          "metadata": {
            "tags": []
          },
          "execution_count": 29
        }
      ]
    },
    {
      "cell_type": "code",
      "metadata": {
        "id": "Ckr9Wfppy0-n",
        "colab_type": "code",
        "colab": {}
      },
      "source": [
        "filtered_users_visible=filtered_users_visible[filtered_users_visible['user_id'].isin(filtered_users_hidden['user_id'])]"
      ],
      "execution_count": null,
      "outputs": []
    },
    {
      "cell_type": "code",
      "metadata": {
        "id": "TUwsw9Pey2wu",
        "colab_type": "code",
        "colab": {
          "base_uri": "https://localhost:8080/",
          "height": 33
        },
        "outputId": "ed8fa20a-2e18-4ab3-ea94-041d372abe37"
      },
      "source": [
        "len(filtered_users_visible['user_id'].unique())"
      ],
      "execution_count": null,
      "outputs": [
        {
          "output_type": "execute_result",
          "data": {
            "text/plain": [
              "31"
            ]
          },
          "metadata": {
            "tags": []
          },
          "execution_count": 31
        }
      ]
    },
    {
      "cell_type": "code",
      "metadata": {
        "id": "SLodjMUJzgQk",
        "colab_type": "code",
        "colab": {
          "base_uri": "https://localhost:8080/",
          "height": 84
        },
        "outputId": "f9173adb-a98b-4147-de1c-5e56612b01b1"
      },
      "source": [
        "filtered_users_hidden['user_id'].unique()==filtered_users_visible['user_id'].unique()"
      ],
      "execution_count": null,
      "outputs": [
        {
          "output_type": "execute_result",
          "data": {
            "text/plain": [
              "array([ True,  True,  True,  True,  True,  True,  True,  True,  True,\n",
              "        True,  True,  True,  True,  True,  True,  True,  True,  True,\n",
              "        True,  True,  True,  True,  True,  True,  True,  True,  True,\n",
              "        True,  True,  True,  True])"
            ]
          },
          "metadata": {
            "tags": []
          },
          "execution_count": 32
        }
      ]
    },
    {
      "cell_type": "code",
      "metadata": {
        "id": "_UvfGM5jzjXr",
        "colab_type": "code",
        "colab": {}
      },
      "source": [
        ""
      ],
      "execution_count": null,
      "outputs": []
    },
    {
      "cell_type": "code",
      "metadata": {
        "id": "ZRWCBRkPil7Q",
        "colab_type": "code",
        "colab": {
          "base_uri": "https://localhost:8080/",
          "height": 33
        },
        "outputId": "65f0524f-1bdb-4fdf-85dd-3281d43d07ce"
      },
      "source": [
        "filtered_users_visible['user_id'].nunique()"
      ],
      "execution_count": null,
      "outputs": [
        {
          "output_type": "execute_result",
          "data": {
            "text/plain": [
              "31"
            ]
          },
          "metadata": {
            "tags": []
          },
          "execution_count": 33
        }
      ]
    },
    {
      "cell_type": "code",
      "metadata": {
        "id": "X77LCkfEisSq",
        "colab_type": "code",
        "colab": {
          "base_uri": "https://localhost:8080/",
          "height": 33
        },
        "outputId": "89478c64-1d3b-4b2a-af41-edbc6058dfde"
      },
      "source": [
        "filtered_users_hidden['user_id'].nunique()"
      ],
      "execution_count": null,
      "outputs": [
        {
          "output_type": "execute_result",
          "data": {
            "text/plain": [
              "31"
            ]
          },
          "metadata": {
            "tags": []
          },
          "execution_count": 34
        }
      ]
    },
    {
      "cell_type": "markdown",
      "metadata": {
        "id": "LBNzZuRcWmn_",
        "colab_type": "text"
      },
      "source": [
        "Add Dominant Topics\n"
      ]
    },
    {
      "cell_type": "code",
      "metadata": {
        "id": "Dg1Xr1ymKgVe",
        "colab_type": "code",
        "colab": {}
      },
      "source": [
        ""
      ],
      "execution_count": null,
      "outputs": []
    },
    {
      "cell_type": "markdown",
      "metadata": {
        "id": "MaeaK47-WytD",
        "colab_type": "text"
      },
      "source": [
        "Read from Lyrics Data frame"
      ]
    },
    {
      "cell_type": "code",
      "metadata": {
        "id": "CXZq4WMoMC_j",
        "colab_type": "code",
        "colab": {}
      },
      "source": [
        "# query1 = '''SELECT * FROM lyrics'''\n",
        "# df_lyrics = pd.read_sql(query1,connection1)"
      ],
      "execution_count": null,
      "outputs": []
    },
    {
      "cell_type": "code",
      "metadata": {
        "id": "fXqONGnQMfDP",
        "colab_type": "code",
        "colab": {}
      },
      "source": [
        "# df_lyrics.head()"
      ],
      "execution_count": null,
      "outputs": []
    },
    {
      "cell_type": "markdown",
      "metadata": {
        "id": "y-9oUcFkXBdN",
        "colab_type": "text"
      },
      "source": [
        "Read ALL songs metadata"
      ]
    },
    {
      "cell_type": "code",
      "metadata": {
        "id": "znjVNZ1tNVXQ",
        "colab_type": "code",
        "colab": {}
      },
      "source": [
        "# query2 = '''SELECT * FROM songs'''\n",
        "# df_metadata= pd.read_sql(query2,connection2)\n"
      ],
      "execution_count": null,
      "outputs": []
    },
    {
      "cell_type": "markdown",
      "metadata": {
        "id": "e-Dhmki8XHE5",
        "colab_type": "text"
      },
      "source": [
        "Read dataframe from H5 subset to check how many popular songs are in subset"
      ]
    },
    {
      "cell_type": "code",
      "metadata": {
        "id": "6-NmDD6u_4yP",
        "colab_type": "code",
        "colab": {}
      },
      "source": [
        "# df_subset_full=pd.read_csv(\"/content/drive/My Drive/ADS/export_dataframe.csv\")\n",
        "\n"
      ],
      "execution_count": null,
      "outputs": []
    },
    {
      "cell_type": "code",
      "metadata": {
        "id": "-L8nevhvXbfn",
        "colab_type": "code",
        "colab": {
          "base_uri": "https://localhost:8080/",
          "height": 33
        },
        "outputId": "61b3ecb0-7d65-4cc3-b5d7-2c342e50d4f3"
      },
      "source": [
        "# display(df_subset_full.columns)\n",
        "filtered_users_visible.columns"
      ],
      "execution_count": null,
      "outputs": [
        {
          "output_type": "execute_result",
          "data": {
            "text/plain": [
              "Index(['user_id', 'song_id', 'freq_song'], dtype='object')"
            ]
          },
          "metadata": {
            "tags": []
          },
          "execution_count": 37
        }
      ]
    },
    {
      "cell_type": "markdown",
      "metadata": {
        "id": "FCEBJHHcX2PA",
        "colab_type": "text"
      },
      "source": [
        "Merge Visible Songs with Metadata"
      ]
    },
    {
      "cell_type": "code",
      "metadata": {
        "id": "TRX4zmh79gZR",
        "colab_type": "code",
        "colab": {
          "base_uri": "https://localhost:8080/",
          "height": 33
        },
        "outputId": "2b771bee-5b81-4da6-c566-babf08b28bb3"
      },
      "source": [
        "lyrics_metadata.columns\n",
        "\n",
        "df_visible=pd.merge(filtered_users_visible,lyrics_metadata,on=['song_id'],how='left')\n",
        "\n",
        "display(df_visible.shape)\n",
        "\n",
        "df_visible.to_csv(\"/content/drive/My Drive/ADS/final/filtered_users_visible_meta_data.csv\")"
      ],
      "execution_count": null,
      "outputs": [
        {
          "output_type": "display_data",
          "data": {
            "text/plain": [
              "(369, 16)"
            ]
          },
          "metadata": {
            "tags": []
          }
        }
      ]
    },
    {
      "cell_type": "code",
      "metadata": {
        "id": "9LmtfyeXnp8e",
        "colab_type": "code",
        "colab": {
          "base_uri": "https://localhost:8080/",
          "height": 467
        },
        "outputId": "4008347f-7f4c-4a7d-c224-71cdb86288df"
      },
      "source": [
        "df_visible.head()"
      ],
      "execution_count": null,
      "outputs": [
        {
          "output_type": "execute_result",
          "data": {
            "text/html": [
              "<div>\n",
              "<style scoped>\n",
              "    .dataframe tbody tr th:only-of-type {\n",
              "        vertical-align: middle;\n",
              "    }\n",
              "\n",
              "    .dataframe tbody tr th {\n",
              "        vertical-align: top;\n",
              "    }\n",
              "\n",
              "    .dataframe thead th {\n",
              "        text-align: right;\n",
              "    }\n",
              "</style>\n",
              "<table border=\"1\" class=\"dataframe\">\n",
              "  <thead>\n",
              "    <tr style=\"text-align: right;\">\n",
              "      <th></th>\n",
              "      <th>user_id</th>\n",
              "      <th>song_id</th>\n",
              "      <th>freq_song</th>\n",
              "      <th>track_id</th>\n",
              "      <th>title</th>\n",
              "      <th>release</th>\n",
              "      <th>artist_id</th>\n",
              "      <th>artist_mbid</th>\n",
              "      <th>artist_name</th>\n",
              "      <th>duration</th>\n",
              "      <th>artist_familiarity</th>\n",
              "      <th>artist_hotttnesss</th>\n",
              "      <th>year</th>\n",
              "      <th>track_7digitalid</th>\n",
              "      <th>shs_perf</th>\n",
              "      <th>shs_work</th>\n",
              "    </tr>\n",
              "  </thead>\n",
              "  <tbody>\n",
              "    <tr>\n",
              "      <th>0</th>\n",
              "      <td>01047b99e00bb0743f66bb321bdd62e38fddb0a5</td>\n",
              "      <td>SONNSYV12A8C146BEC</td>\n",
              "      <td>1</td>\n",
              "      <td>TRPFYYL128F92F7144</td>\n",
              "      <td>Float On</td>\n",
              "      <td>Float On</td>\n",
              "      <td>AR6AY7W1187B9AC569</td>\n",
              "      <td>a96ac800-bfcb-412a-8a63-0a98df600700</td>\n",
              "      <td>Modest Mouse</td>\n",
              "      <td>209.52771</td>\n",
              "      <td>0.808802</td>\n",
              "      <td>0.583858</td>\n",
              "      <td>2003</td>\n",
              "      <td>4906143</td>\n",
              "      <td>-1</td>\n",
              "      <td>0</td>\n",
              "    </tr>\n",
              "    <tr>\n",
              "      <th>1</th>\n",
              "      <td>01047b99e00bb0743f66bb321bdd62e38fddb0a5</td>\n",
              "      <td>SODCADR12AF72A1A99</td>\n",
              "      <td>1</td>\n",
              "      <td>TRFGWOW12903CF14C3</td>\n",
              "      <td>Whataya Want From Me</td>\n",
              "      <td>Whataya Want From Me</td>\n",
              "      <td>ARIGTAO11FED0C4411</td>\n",
              "      <td>e942594a-91cc-427a-8beb-6815c28e9254</td>\n",
              "      <td>Adam Lambert</td>\n",
              "      <td>227.39546</td>\n",
              "      <td>0.756337</td>\n",
              "      <td>0.703292</td>\n",
              "      <td>2009</td>\n",
              "      <td>8622938</td>\n",
              "      <td>-1</td>\n",
              "      <td>0</td>\n",
              "    </tr>\n",
              "    <tr>\n",
              "      <th>2</th>\n",
              "      <td>01047b99e00bb0743f66bb321bdd62e38fddb0a5</td>\n",
              "      <td>SODJWHY12A8C142CCE</td>\n",
              "      <td>3</td>\n",
              "      <td>TRVCUSW128F92F20C6</td>\n",
              "      <td>Hey_ Soul Sister</td>\n",
              "      <td>Save Me_ San Francisco</td>\n",
              "      <td>ARICCZI1187B9AEBB3</td>\n",
              "      <td>bfd5aec5-62a2-4560-a316-7c46c17babda</td>\n",
              "      <td>Train</td>\n",
              "      <td>216.76363</td>\n",
              "      <td>0.838886</td>\n",
              "      <td>0.783677</td>\n",
              "      <td>0</td>\n",
              "      <td>6786966</td>\n",
              "      <td>-1</td>\n",
              "      <td>0</td>\n",
              "    </tr>\n",
              "    <tr>\n",
              "      <th>3</th>\n",
              "      <td>01047b99e00bb0743f66bb321bdd62e38fddb0a5</td>\n",
              "      <td>SOJZFQA12AB017BFB0</td>\n",
              "      <td>1</td>\n",
              "      <td>TREQNFM128F93165A8</td>\n",
              "      <td>Live Like We're Dying</td>\n",
              "      <td>Kris Allen</td>\n",
              "      <td>ARNPTKU11FED0C4418</td>\n",
              "      <td>9ce29a24-b118-41a3-9297-2618f26b124d</td>\n",
              "      <td>Kris Allen</td>\n",
              "      <td>212.50567</td>\n",
              "      <td>0.782033</td>\n",
              "      <td>0.531775</td>\n",
              "      <td>2009</td>\n",
              "      <td>6936569</td>\n",
              "      <td>-1</td>\n",
              "      <td>0</td>\n",
              "    </tr>\n",
              "    <tr>\n",
              "      <th>4</th>\n",
              "      <td>01047b99e00bb0743f66bb321bdd62e38fddb0a5</td>\n",
              "      <td>SOPSYOY12A8C142E0B</td>\n",
              "      <td>1</td>\n",
              "      <td>TRTVTFT128F9327735</td>\n",
              "      <td>New Divide (Album Version)</td>\n",
              "      <td>Transformers: Revenge Of The Fallen The Album</td>\n",
              "      <td>ARQUMH41187B9AF699</td>\n",
              "      <td>f59c5520-5f46-4d2c-b2c4-822eabf53419</td>\n",
              "      <td>Linkin Park</td>\n",
              "      <td>268.61669</td>\n",
              "      <td>0.887386</td>\n",
              "      <td>0.791143</td>\n",
              "      <td>2009</td>\n",
              "      <td>5566797</td>\n",
              "      <td>-1</td>\n",
              "      <td>0</td>\n",
              "    </tr>\n",
              "  </tbody>\n",
              "</table>\n",
              "</div>"
            ],
            "text/plain": [
              "                                    user_id  ... shs_work\n",
              "0  01047b99e00bb0743f66bb321bdd62e38fddb0a5  ...        0\n",
              "1  01047b99e00bb0743f66bb321bdd62e38fddb0a5  ...        0\n",
              "2  01047b99e00bb0743f66bb321bdd62e38fddb0a5  ...        0\n",
              "3  01047b99e00bb0743f66bb321bdd62e38fddb0a5  ...        0\n",
              "4  01047b99e00bb0743f66bb321bdd62e38fddb0a5  ...        0\n",
              "\n",
              "[5 rows x 16 columns]"
            ]
          },
          "metadata": {
            "tags": []
          },
          "execution_count": 97
        }
      ]
    },
    {
      "cell_type": "code",
      "metadata": {
        "id": "wGVBwvCpkVX9",
        "colab_type": "code",
        "colab": {
          "base_uri": "https://localhost:8080/",
          "height": 33
        },
        "outputId": "cbeeb3d1-19f5-461b-f123-4ce56c1c42ea"
      },
      "source": [
        "lyrics_metadata.columns\n",
        "\n",
        "df_hidden=pd.merge(filtered_users_hidden,lyrics_metadata,on='song_id',how='left')\n",
        "\n",
        "display(df_hidden.shape)\n",
        "\n",
        "df_hidden.to_csv(\"/content/drive/My Drive/ADS/final/filtered_users_hidden_meta_data.csv\")"
      ],
      "execution_count": null,
      "outputs": [
        {
          "output_type": "display_data",
          "data": {
            "text/plain": [
              "(277, 16)"
            ]
          },
          "metadata": {
            "tags": []
          }
        }
      ]
    },
    {
      "cell_type": "code",
      "metadata": {
        "id": "5DxjTkQOG3L0",
        "colab_type": "code",
        "colab": {}
      },
      "source": [
        "# df_hidden[df_hidden.user_id=='0b4011a9df16aedc7c1a0defabcf04a9ec4b6228'].count()"
      ],
      "execution_count": null,
      "outputs": []
    },
    {
      "cell_type": "code",
      "metadata": {
        "id": "r9zviouetHPM",
        "colab_type": "code",
        "colab": {}
      },
      "source": [
        "# filtered_metadata=df_metadata[df_metadata['track_id'].isin(availableTracks)]"
      ],
      "execution_count": null,
      "outputs": []
    },
    {
      "cell_type": "code",
      "metadata": {
        "id": "G9JxTGDsmMef",
        "colab_type": "code",
        "colab": {
          "base_uri": "https://localhost:8080/",
          "height": 467
        },
        "outputId": "703db96a-2af3-441c-c874-9f955ebbf446"
      },
      "source": [
        "df_visible.head()"
      ],
      "execution_count": null,
      "outputs": [
        {
          "output_type": "execute_result",
          "data": {
            "text/html": [
              "<div>\n",
              "<style scoped>\n",
              "    .dataframe tbody tr th:only-of-type {\n",
              "        vertical-align: middle;\n",
              "    }\n",
              "\n",
              "    .dataframe tbody tr th {\n",
              "        vertical-align: top;\n",
              "    }\n",
              "\n",
              "    .dataframe thead th {\n",
              "        text-align: right;\n",
              "    }\n",
              "</style>\n",
              "<table border=\"1\" class=\"dataframe\">\n",
              "  <thead>\n",
              "    <tr style=\"text-align: right;\">\n",
              "      <th></th>\n",
              "      <th>user_id</th>\n",
              "      <th>song_id</th>\n",
              "      <th>freq_song</th>\n",
              "      <th>track_id</th>\n",
              "      <th>title</th>\n",
              "      <th>release</th>\n",
              "      <th>artist_id</th>\n",
              "      <th>artist_mbid</th>\n",
              "      <th>artist_name</th>\n",
              "      <th>duration</th>\n",
              "      <th>artist_familiarity</th>\n",
              "      <th>artist_hotttnesss</th>\n",
              "      <th>year</th>\n",
              "      <th>track_7digitalid</th>\n",
              "      <th>shs_perf</th>\n",
              "      <th>shs_work</th>\n",
              "    </tr>\n",
              "  </thead>\n",
              "  <tbody>\n",
              "    <tr>\n",
              "      <th>0</th>\n",
              "      <td>01047b99e00bb0743f66bb321bdd62e38fddb0a5</td>\n",
              "      <td>SONNSYV12A8C146BEC</td>\n",
              "      <td>1</td>\n",
              "      <td>TRPFYYL128F92F7144</td>\n",
              "      <td>Float On</td>\n",
              "      <td>Float On</td>\n",
              "      <td>AR6AY7W1187B9AC569</td>\n",
              "      <td>a96ac800-bfcb-412a-8a63-0a98df600700</td>\n",
              "      <td>Modest Mouse</td>\n",
              "      <td>209.52771</td>\n",
              "      <td>0.808802</td>\n",
              "      <td>0.583858</td>\n",
              "      <td>2003</td>\n",
              "      <td>4906143</td>\n",
              "      <td>-1</td>\n",
              "      <td>0</td>\n",
              "    </tr>\n",
              "    <tr>\n",
              "      <th>1</th>\n",
              "      <td>01047b99e00bb0743f66bb321bdd62e38fddb0a5</td>\n",
              "      <td>SODCADR12AF72A1A99</td>\n",
              "      <td>1</td>\n",
              "      <td>TRFGWOW12903CF14C3</td>\n",
              "      <td>Whataya Want From Me</td>\n",
              "      <td>Whataya Want From Me</td>\n",
              "      <td>ARIGTAO11FED0C4411</td>\n",
              "      <td>e942594a-91cc-427a-8beb-6815c28e9254</td>\n",
              "      <td>Adam Lambert</td>\n",
              "      <td>227.39546</td>\n",
              "      <td>0.756337</td>\n",
              "      <td>0.703292</td>\n",
              "      <td>2009</td>\n",
              "      <td>8622938</td>\n",
              "      <td>-1</td>\n",
              "      <td>0</td>\n",
              "    </tr>\n",
              "    <tr>\n",
              "      <th>2</th>\n",
              "      <td>01047b99e00bb0743f66bb321bdd62e38fddb0a5</td>\n",
              "      <td>SODJWHY12A8C142CCE</td>\n",
              "      <td>3</td>\n",
              "      <td>TRVCUSW128F92F20C6</td>\n",
              "      <td>Hey_ Soul Sister</td>\n",
              "      <td>Save Me_ San Francisco</td>\n",
              "      <td>ARICCZI1187B9AEBB3</td>\n",
              "      <td>bfd5aec5-62a2-4560-a316-7c46c17babda</td>\n",
              "      <td>Train</td>\n",
              "      <td>216.76363</td>\n",
              "      <td>0.838886</td>\n",
              "      <td>0.783677</td>\n",
              "      <td>0</td>\n",
              "      <td>6786966</td>\n",
              "      <td>-1</td>\n",
              "      <td>0</td>\n",
              "    </tr>\n",
              "    <tr>\n",
              "      <th>3</th>\n",
              "      <td>01047b99e00bb0743f66bb321bdd62e38fddb0a5</td>\n",
              "      <td>SOJZFQA12AB017BFB0</td>\n",
              "      <td>1</td>\n",
              "      <td>TREQNFM128F93165A8</td>\n",
              "      <td>Live Like We're Dying</td>\n",
              "      <td>Kris Allen</td>\n",
              "      <td>ARNPTKU11FED0C4418</td>\n",
              "      <td>9ce29a24-b118-41a3-9297-2618f26b124d</td>\n",
              "      <td>Kris Allen</td>\n",
              "      <td>212.50567</td>\n",
              "      <td>0.782033</td>\n",
              "      <td>0.531775</td>\n",
              "      <td>2009</td>\n",
              "      <td>6936569</td>\n",
              "      <td>-1</td>\n",
              "      <td>0</td>\n",
              "    </tr>\n",
              "    <tr>\n",
              "      <th>4</th>\n",
              "      <td>01047b99e00bb0743f66bb321bdd62e38fddb0a5</td>\n",
              "      <td>SOPSYOY12A8C142E0B</td>\n",
              "      <td>1</td>\n",
              "      <td>TRTVTFT128F9327735</td>\n",
              "      <td>New Divide (Album Version)</td>\n",
              "      <td>Transformers: Revenge Of The Fallen The Album</td>\n",
              "      <td>ARQUMH41187B9AF699</td>\n",
              "      <td>f59c5520-5f46-4d2c-b2c4-822eabf53419</td>\n",
              "      <td>Linkin Park</td>\n",
              "      <td>268.61669</td>\n",
              "      <td>0.887386</td>\n",
              "      <td>0.791143</td>\n",
              "      <td>2009</td>\n",
              "      <td>5566797</td>\n",
              "      <td>-1</td>\n",
              "      <td>0</td>\n",
              "    </tr>\n",
              "  </tbody>\n",
              "</table>\n",
              "</div>"
            ],
            "text/plain": [
              "                                    user_id  ... shs_work\n",
              "0  01047b99e00bb0743f66bb321bdd62e38fddb0a5  ...        0\n",
              "1  01047b99e00bb0743f66bb321bdd62e38fddb0a5  ...        0\n",
              "2  01047b99e00bb0743f66bb321bdd62e38fddb0a5  ...        0\n",
              "3  01047b99e00bb0743f66bb321bdd62e38fddb0a5  ...        0\n",
              "4  01047b99e00bb0743f66bb321bdd62e38fddb0a5  ...        0\n",
              "\n",
              "[5 rows x 16 columns]"
            ]
          },
          "metadata": {
            "tags": []
          },
          "execution_count": 42
        }
      ]
    },
    {
      "cell_type": "code",
      "metadata": {
        "id": "B-aRsh03mgBZ",
        "colab_type": "code",
        "colab": {}
      },
      "source": [
        ""
      ],
      "execution_count": null,
      "outputs": []
    },
    {
      "cell_type": "code",
      "metadata": {
        "id": "4mYPuWYRn0Tz",
        "colab_type": "code",
        "colab": {
          "base_uri": "https://localhost:8080/",
          "height": 517
        },
        "outputId": "ca8f2481-d48a-4763-c04b-d2b2cdc8b7f3"
      },
      "source": [
        "df_hidden.head()"
      ],
      "execution_count": null,
      "outputs": [
        {
          "output_type": "execute_result",
          "data": {
            "text/html": [
              "<div>\n",
              "<style scoped>\n",
              "    .dataframe tbody tr th:only-of-type {\n",
              "        vertical-align: middle;\n",
              "    }\n",
              "\n",
              "    .dataframe tbody tr th {\n",
              "        vertical-align: top;\n",
              "    }\n",
              "\n",
              "    .dataframe thead th {\n",
              "        text-align: right;\n",
              "    }\n",
              "</style>\n",
              "<table border=\"1\" class=\"dataframe\">\n",
              "  <thead>\n",
              "    <tr style=\"text-align: right;\">\n",
              "      <th></th>\n",
              "      <th>user_id</th>\n",
              "      <th>song_id</th>\n",
              "      <th>freq_song</th>\n",
              "      <th>track_id</th>\n",
              "      <th>title</th>\n",
              "      <th>release</th>\n",
              "      <th>artist_id</th>\n",
              "      <th>artist_mbid</th>\n",
              "      <th>artist_name</th>\n",
              "      <th>duration</th>\n",
              "      <th>artist_familiarity</th>\n",
              "      <th>artist_hotttnesss</th>\n",
              "      <th>year</th>\n",
              "      <th>track_7digitalid</th>\n",
              "      <th>shs_perf</th>\n",
              "      <th>shs_work</th>\n",
              "    </tr>\n",
              "  </thead>\n",
              "  <tbody>\n",
              "    <tr>\n",
              "      <th>0</th>\n",
              "      <td>01047b99e00bb0743f66bb321bdd62e38fddb0a5</td>\n",
              "      <td>SOJJYDE12AF729FC16</td>\n",
              "      <td>1</td>\n",
              "      <td>TRAWVYP128F9305DF2</td>\n",
              "      <td>Two Is Better Than One</td>\n",
              "      <td>Love Drunk</td>\n",
              "      <td>ARG72Q21187FB36243</td>\n",
              "      <td>d6e65033-b56a-49df-8744-6fc3ffd75edd</td>\n",
              "      <td>Boys Like Girls featuring Taylor Swift</td>\n",
              "      <td>242.83383</td>\n",
              "      <td>0.852366</td>\n",
              "      <td>0.587033</td>\n",
              "      <td>2009</td>\n",
              "      <td>6265221</td>\n",
              "      <td>-1</td>\n",
              "      <td>0</td>\n",
              "    </tr>\n",
              "    <tr>\n",
              "      <th>1</th>\n",
              "      <td>01047b99e00bb0743f66bb321bdd62e38fddb0a5</td>\n",
              "      <td>SOGSAYQ12AB018BA14</td>\n",
              "      <td>3</td>\n",
              "      <td>TRMEQQX12903CCD9D5</td>\n",
              "      <td>Eenie Meenie</td>\n",
              "      <td>Eenie Meenie</td>\n",
              "      <td>AR9LJ9D1187FB4303D</td>\n",
              "      <td>f7eb3be3-1065-4a53-94d4-e2d0c15c0b33</td>\n",
              "      <td>Sean Kingston and Justin Bieber</td>\n",
              "      <td>201.95220</td>\n",
              "      <td>0.925192</td>\n",
              "      <td>0.662876</td>\n",
              "      <td>0</td>\n",
              "      <td>8476464</td>\n",
              "      <td>-1</td>\n",
              "      <td>0</td>\n",
              "    </tr>\n",
              "    <tr>\n",
              "      <th>2</th>\n",
              "      <td>01047b99e00bb0743f66bb321bdd62e38fddb0a5</td>\n",
              "      <td>SOJTLHS12A8C13F633</td>\n",
              "      <td>1</td>\n",
              "      <td>TRHEHYE128F42811F3</td>\n",
              "      <td>Ain't No Rest For The Wicked (Original Version)</td>\n",
              "      <td>Cage The Elephant</td>\n",
              "      <td>AR12DMP11C8A41577B</td>\n",
              "      <td>b41b38d4-ef3e-4f37-8c75-cfe9af999696</td>\n",
              "      <td>Cage The Elephant</td>\n",
              "      <td>175.12444</td>\n",
              "      <td>0.754159</td>\n",
              "      <td>0.686729</td>\n",
              "      <td>2008</td>\n",
              "      <td>2946131</td>\n",
              "      <td>-1</td>\n",
              "      <td>0</td>\n",
              "    </tr>\n",
              "    <tr>\n",
              "      <th>3</th>\n",
              "      <td>01047b99e00bb0743f66bb321bdd62e38fddb0a5</td>\n",
              "      <td>SOWKQYL12AB0183B15</td>\n",
              "      <td>1</td>\n",
              "      <td>TRLCLEM128F93402D3</td>\n",
              "      <td>Whatcha Say</td>\n",
              "      <td>Whatcha Say</td>\n",
              "      <td>ARICFET123E29C2452</td>\n",
              "      <td>6de0f914-3e60-4418-be3b-42e0feb6eb4d</td>\n",
              "      <td>Jason Derulo</td>\n",
              "      <td>222.61506</td>\n",
              "      <td>0.722760</td>\n",
              "      <td>0.702377</td>\n",
              "      <td>2009</td>\n",
              "      <td>5219250</td>\n",
              "      <td>-1</td>\n",
              "      <td>0</td>\n",
              "    </tr>\n",
              "    <tr>\n",
              "      <th>4</th>\n",
              "      <td>01047b99e00bb0743f66bb321bdd62e38fddb0a5</td>\n",
              "      <td>SOWGHHQ12A67021878</td>\n",
              "      <td>1</td>\n",
              "      <td>TRQVBSM128E078903A</td>\n",
              "      <td>Feel Good Inc (Album Version)</td>\n",
              "      <td>Demon Days</td>\n",
              "      <td>ARAXU5Z1187B98FECD</td>\n",
              "      <td>e21857d5-3256-4547-afb3-4b6ded592596</td>\n",
              "      <td>Gorillaz</td>\n",
              "      <td>221.20444</td>\n",
              "      <td>0.775086</td>\n",
              "      <td>0.605191</td>\n",
              "      <td>2005</td>\n",
              "      <td>108811</td>\n",
              "      <td>-1</td>\n",
              "      <td>0</td>\n",
              "    </tr>\n",
              "  </tbody>\n",
              "</table>\n",
              "</div>"
            ],
            "text/plain": [
              "                                    user_id  ... shs_work\n",
              "0  01047b99e00bb0743f66bb321bdd62e38fddb0a5  ...        0\n",
              "1  01047b99e00bb0743f66bb321bdd62e38fddb0a5  ...        0\n",
              "2  01047b99e00bb0743f66bb321bdd62e38fddb0a5  ...        0\n",
              "3  01047b99e00bb0743f66bb321bdd62e38fddb0a5  ...        0\n",
              "4  01047b99e00bb0743f66bb321bdd62e38fddb0a5  ...        0\n",
              "\n",
              "[5 rows x 16 columns]"
            ]
          },
          "metadata": {
            "tags": []
          },
          "execution_count": 43
        }
      ]
    },
    {
      "cell_type": "code",
      "metadata": {
        "id": "a0k_8E-nmlN6",
        "colab_type": "code",
        "colab": {}
      },
      "source": [
        "# df_merged_visible.columns"
      ],
      "execution_count": null,
      "outputs": []
    },
    {
      "cell_type": "code",
      "metadata": {
        "id": "dUXRNdb-nmfu",
        "colab_type": "code",
        "colab": {}
      },
      "source": [
        "\n",
        "# df_merged_hidden = pd.merge(left=df_dominant_topic, right=df_hidden, how='left', on='track_id')\n",
        "\n",
        "# df_merged_hidden.to_csv('/content/drive/My Drive/ADS/final/merged_metadata_songs_hidden.csv')"
      ],
      "execution_count": null,
      "outputs": []
    },
    {
      "cell_type": "code",
      "metadata": {
        "id": "Gh_x8kBXz3jA",
        "colab_type": "code",
        "colab": {}
      },
      "source": [
        ""
      ],
      "execution_count": null,
      "outputs": []
    },
    {
      "cell_type": "code",
      "metadata": {
        "id": "Wbt3zm5AoWVL",
        "colab_type": "code",
        "colab": {}
      },
      "source": [
        "# df_merged_hidden.head()"
      ],
      "execution_count": null,
      "outputs": []
    },
    {
      "cell_type": "markdown",
      "metadata": {
        "id": "SuFQRrH4asWU",
        "colab_type": "text"
      },
      "source": [
        "Get users which have listened to the popular songs"
      ]
    },
    {
      "cell_type": "code",
      "metadata": {
        "id": "C0Au-bAIaole",
        "colab_type": "code",
        "colab": {}
      },
      "source": [
        "# df_user_hidden= pd.merge(left=df_merged_hidden, right=df_valid_hidden, how='left', on='song_id')\n",
        "#df_merged_hidden.columns"
      ],
      "execution_count": null,
      "outputs": []
    },
    {
      "cell_type": "code",
      "metadata": {
        "id": "Q58dD_j-m-WM",
        "colab_type": "code",
        "colab": {}
      },
      "source": [
        ""
      ],
      "execution_count": null,
      "outputs": []
    },
    {
      "cell_type": "code",
      "metadata": {
        "id": "6tP2twBDoHAU",
        "colab_type": "code",
        "colab": {}
      },
      "source": [
        "\n",
        "\n"
      ],
      "execution_count": null,
      "outputs": []
    },
    {
      "cell_type": "code",
      "metadata": {
        "id": "xmrEt68Uoclm",
        "colab_type": "code",
        "colab": {
          "base_uri": "https://localhost:8080/",
          "height": 50
        },
        "outputId": "367b7d92-dfde-4fe3-d9c6-929b135d47cc"
      },
      "source": [
        "display(df_visible.shape)\n",
        "display(df_hidden.shape)"
      ],
      "execution_count": null,
      "outputs": [
        {
          "output_type": "display_data",
          "data": {
            "text/plain": [
              "(369, 16)"
            ]
          },
          "metadata": {
            "tags": []
          }
        },
        {
          "output_type": "display_data",
          "data": {
            "text/plain": [
              "(277, 16)"
            ]
          },
          "metadata": {
            "tags": []
          }
        }
      ]
    },
    {
      "cell_type": "code",
      "metadata": {
        "id": "pPvCw3S6caO4",
        "colab_type": "code",
        "colab": {}
      },
      "source": [
        ""
      ],
      "execution_count": null,
      "outputs": []
    },
    {
      "cell_type": "code",
      "metadata": {
        "id": "2XXUKXBcee4b",
        "colab_type": "code",
        "colab": {}
      },
      "source": [
        "#df_metadata_topic_all = pd.merge(left=df_dominant_topic, right=df_metadata, how='left', on='track_id')"
      ],
      "execution_count": null,
      "outputs": []
    },
    {
      "cell_type": "code",
      "metadata": {
        "id": "ROMaINaoui6b",
        "colab_type": "code",
        "colab": {}
      },
      "source": [
        "# df_metadata_topic_all.columns"
      ],
      "execution_count": null,
      "outputs": []
    },
    {
      "cell_type": "code",
      "metadata": {
        "id": "uhVexjBC1owQ",
        "colab_type": "code",
        "colab": {}
      },
      "source": [
        "# df_metadata_topic_all.shape\n"
      ],
      "execution_count": null,
      "outputs": []
    },
    {
      "cell_type": "markdown",
      "metadata": {
        "id": "db9O4oGbwHh3",
        "colab_type": "text"
      },
      "source": [
        "#Add Topics to Filtered Songs"
      ]
    },
    {
      "cell_type": "code",
      "metadata": {
        "id": "ijuqej74DvCp",
        "colab_type": "code",
        "colab": {}
      },
      "source": [
        "availableTracks_visible=set(df_visible['track_id'].unique())\n",
        "availableTracks_hidden=set(df_hidden['track_id'].unique())\n",
        "availableTracks_all=availableTracks_visible.union(availableTracks_hidden)\n",
        "availableUsers=df_visible['user_id'].unique()"
      ],
      "execution_count": null,
      "outputs": []
    },
    {
      "cell_type": "code",
      "metadata": {
        "id": "nRr3MynaD6rA",
        "colab_type": "code",
        "colab": {
          "base_uri": "https://localhost:8080/",
          "height": 33
        },
        "outputId": "25c33659-4d22-45ac-a930-04c08d2801a5"
      },
      "source": [
        "df_subLyrics = df_lyrics.loc[df_lyrics['track_id'].isin(availableTracks_all)]\n",
        "df_subLyrics.shape"
      ],
      "execution_count": null,
      "outputs": [
        {
          "output_type": "execute_result",
          "data": {
            "text/plain": [
              "(17940, 5)"
            ]
          },
          "metadata": {
            "tags": []
          },
          "execution_count": 52
        }
      ]
    },
    {
      "cell_type": "code",
      "metadata": {
        "id": "pi_5oJalB4Ym",
        "colab_type": "code",
        "colab": {
          "base_uri": "https://localhost:8080/",
          "height": 33
        },
        "outputId": "23df74f0-73b0-4fff-ec55-2c10144d47fd"
      },
      "source": [
        "len(availableTracks_all)"
      ],
      "execution_count": null,
      "outputs": [
        {
          "output_type": "execute_result",
          "data": {
            "text/plain": [
              "173"
            ]
          },
          "metadata": {
            "tags": []
          },
          "execution_count": 53
        }
      ]
    },
    {
      "cell_type": "code",
      "metadata": {
        "id": "B4_tqFgYECGQ",
        "colab_type": "code",
        "colab": {}
      },
      "source": [
        "stop_words = stopwords.words('english')\n",
        "from string import punctuation\n",
        "punc = list(set(punctuation))\n",
        "\n",
        "stop_words = stop_words + punc"
      ],
      "execution_count": null,
      "outputs": []
    },
    {
      "cell_type": "code",
      "metadata": {
        "id": "4RPGbF-QAkj7",
        "colab_type": "code",
        "colab": {
          "base_uri": "https://localhost:8080/",
          "height": 196
        },
        "outputId": "c80dd4c6-7667-4460-f29a-1f8e451bc8ea"
      },
      "source": [
        "df_subLyrics['check'] = df_subLyrics['word'].apply(lambda x: x in stop_words)\n",
        "df_subLyrics.head()"
      ],
      "execution_count": null,
      "outputs": [
        {
          "output_type": "execute_result",
          "data": {
            "text/html": [
              "<div>\n",
              "<style scoped>\n",
              "    .dataframe tbody tr th:only-of-type {\n",
              "        vertical-align: middle;\n",
              "    }\n",
              "\n",
              "    .dataframe tbody tr th {\n",
              "        vertical-align: top;\n",
              "    }\n",
              "\n",
              "    .dataframe thead th {\n",
              "        text-align: right;\n",
              "    }\n",
              "</style>\n",
              "<table border=\"1\" class=\"dataframe\">\n",
              "  <thead>\n",
              "    <tr style=\"text-align: right;\">\n",
              "      <th></th>\n",
              "      <th>track_id</th>\n",
              "      <th>mxm_tid</th>\n",
              "      <th>word</th>\n",
              "      <th>count</th>\n",
              "      <th>is_test</th>\n",
              "      <th>check</th>\n",
              "    </tr>\n",
              "  </thead>\n",
              "  <tbody>\n",
              "    <tr>\n",
              "      <th>13142</th>\n",
              "      <td>TRAALAH128E078234A</td>\n",
              "      <td>727122</td>\n",
              "      <td>i</td>\n",
              "      <td>39</td>\n",
              "      <td>0</td>\n",
              "      <td>True</td>\n",
              "    </tr>\n",
              "    <tr>\n",
              "      <th>13143</th>\n",
              "      <td>TRAALAH128E078234A</td>\n",
              "      <td>727122</td>\n",
              "      <td>the</td>\n",
              "      <td>17</td>\n",
              "      <td>0</td>\n",
              "      <td>True</td>\n",
              "    </tr>\n",
              "    <tr>\n",
              "      <th>13144</th>\n",
              "      <td>TRAALAH128E078234A</td>\n",
              "      <td>727122</td>\n",
              "      <td>you</td>\n",
              "      <td>21</td>\n",
              "      <td>0</td>\n",
              "      <td>True</td>\n",
              "    </tr>\n",
              "    <tr>\n",
              "      <th>13145</th>\n",
              "      <td>TRAALAH128E078234A</td>\n",
              "      <td>727122</td>\n",
              "      <td>to</td>\n",
              "      <td>11</td>\n",
              "      <td>0</td>\n",
              "      <td>True</td>\n",
              "    </tr>\n",
              "    <tr>\n",
              "      <th>13146</th>\n",
              "      <td>TRAALAH128E078234A</td>\n",
              "      <td>727122</td>\n",
              "      <td>and</td>\n",
              "      <td>10</td>\n",
              "      <td>0</td>\n",
              "      <td>True</td>\n",
              "    </tr>\n",
              "  </tbody>\n",
              "</table>\n",
              "</div>"
            ],
            "text/plain": [
              "                 track_id  mxm_tid word  count  is_test  check\n",
              "13142  TRAALAH128E078234A   727122    i     39        0   True\n",
              "13143  TRAALAH128E078234A   727122  the     17        0   True\n",
              "13144  TRAALAH128E078234A   727122  you     21        0   True\n",
              "13145  TRAALAH128E078234A   727122   to     11        0   True\n",
              "13146  TRAALAH128E078234A   727122  and     10        0   True"
            ]
          },
          "metadata": {
            "tags": []
          },
          "execution_count": 55
        }
      ]
    },
    {
      "cell_type": "code",
      "metadata": {
        "id": "o0BvcnNoAoys",
        "colab_type": "code",
        "colab": {}
      },
      "source": [
        "df_subLyrics = df_subLyrics[df_subLyrics['check'] == False]\n",
        "\n",
        "del df_subLyrics['check']"
      ],
      "execution_count": null,
      "outputs": []
    },
    {
      "cell_type": "code",
      "metadata": {
        "id": "PvC3OVTVAs4c",
        "colab_type": "code",
        "colab": {
          "base_uri": "https://localhost:8080/",
          "height": 33
        },
        "outputId": "62274092-2fd5-4225-a397-d0a53cc0dc3c"
      },
      "source": [
        "#Creating tokenziner, lemmitizer, stemmer to process the review text\n",
        "lemmatizer = WordNetLemmatizer()\n",
        "porter_stemmer = PorterStemmer()\n",
        "\n",
        "df_subLyrics['word'] = [lemmatizer.lemmatize(w) for w in df_subLyrics['word'].to_list()]\n",
        "#df_subLyrics['word'] = [porter_stemmer.stem(w) for w in df_subLyrics['word'].to_list()]\n",
        "\n",
        "df_subLyrics.shape"
      ],
      "execution_count": null,
      "outputs": [
        {
          "output_type": "execute_result",
          "data": {
            "text/plain": [
              "(11895, 5)"
            ]
          },
          "metadata": {
            "tags": []
          },
          "execution_count": 57
        }
      ]
    },
    {
      "cell_type": "code",
      "metadata": {
        "id": "u7MeXisGAwGD",
        "colab_type": "code",
        "colab": {
          "base_uri": "https://localhost:8080/",
          "height": 196
        },
        "outputId": "a67b0fab-2625-4c0f-d5be-0a4348ff065b"
      },
      "source": [
        "col = []\n",
        "\n",
        "for i in range(len(df_subLyrics)):\n",
        "    a = list((df_subLyrics.iloc[i,2],) * df_subLyrics.iloc[i,3])\n",
        "    col.append(a)\n",
        "\n",
        "    \n",
        "df_subLyrics['bagWord'] = col\n",
        "df_subLyrics.head()"
      ],
      "execution_count": null,
      "outputs": [
        {
          "output_type": "execute_result",
          "data": {
            "text/html": [
              "<div>\n",
              "<style scoped>\n",
              "    .dataframe tbody tr th:only-of-type {\n",
              "        vertical-align: middle;\n",
              "    }\n",
              "\n",
              "    .dataframe tbody tr th {\n",
              "        vertical-align: top;\n",
              "    }\n",
              "\n",
              "    .dataframe thead th {\n",
              "        text-align: right;\n",
              "    }\n",
              "</style>\n",
              "<table border=\"1\" class=\"dataframe\">\n",
              "  <thead>\n",
              "    <tr style=\"text-align: right;\">\n",
              "      <th></th>\n",
              "      <th>track_id</th>\n",
              "      <th>mxm_tid</th>\n",
              "      <th>word</th>\n",
              "      <th>count</th>\n",
              "      <th>is_test</th>\n",
              "      <th>bagWord</th>\n",
              "    </tr>\n",
              "  </thead>\n",
              "  <tbody>\n",
              "    <tr>\n",
              "      <th>13162</th>\n",
              "      <td>TRAALAH128E078234A</td>\n",
              "      <td>727122</td>\n",
              "      <td>know</td>\n",
              "      <td>4</td>\n",
              "      <td>0</td>\n",
              "      <td>[know, know, know, know]</td>\n",
              "    </tr>\n",
              "    <tr>\n",
              "      <th>13169</th>\n",
              "      <td>TRAALAH128E078234A</td>\n",
              "      <td>727122</td>\n",
              "      <td>one</td>\n",
              "      <td>5</td>\n",
              "      <td>0</td>\n",
              "      <td>[one, one, one, one, one]</td>\n",
              "    </tr>\n",
              "    <tr>\n",
              "      <th>13171</th>\n",
              "      <td>TRAALAH128E078234A</td>\n",
              "      <td>727122</td>\n",
              "      <td>never</td>\n",
              "      <td>1</td>\n",
              "      <td>0</td>\n",
              "      <td>[never]</td>\n",
              "    </tr>\n",
              "    <tr>\n",
              "      <th>13173</th>\n",
              "      <td>TRAALAH128E078234A</td>\n",
              "      <td>727122</td>\n",
              "      <td>feel</td>\n",
              "      <td>1</td>\n",
              "      <td>0</td>\n",
              "      <td>[feel]</td>\n",
              "    </tr>\n",
              "    <tr>\n",
              "      <th>13174</th>\n",
              "      <td>TRAALAH128E078234A</td>\n",
              "      <td>727122</td>\n",
              "      <td>let</td>\n",
              "      <td>2</td>\n",
              "      <td>0</td>\n",
              "      <td>[let, let]</td>\n",
              "    </tr>\n",
              "  </tbody>\n",
              "</table>\n",
              "</div>"
            ],
            "text/plain": [
              "                 track_id  mxm_tid  ... is_test                    bagWord\n",
              "13162  TRAALAH128E078234A   727122  ...       0   [know, know, know, know]\n",
              "13169  TRAALAH128E078234A   727122  ...       0  [one, one, one, one, one]\n",
              "13171  TRAALAH128E078234A   727122  ...       0                    [never]\n",
              "13173  TRAALAH128E078234A   727122  ...       0                     [feel]\n",
              "13174  TRAALAH128E078234A   727122  ...       0                 [let, let]\n",
              "\n",
              "[5 rows x 6 columns]"
            ]
          },
          "metadata": {
            "tags": []
          },
          "execution_count": 58
        }
      ]
    },
    {
      "cell_type": "code",
      "metadata": {
        "id": "KgkOUHzcAzk7",
        "colab_type": "code",
        "colab": {
          "base_uri": "https://localhost:8080/",
          "height": 404
        },
        "outputId": "482aa14f-dd97-48af-f6da-6e24af43d19e"
      },
      "source": [
        "df_subLyrics_agg = df_subLyrics.groupby(by='track_id')['bagWord'].sum()\n",
        "df_subLyrics_agg = df_subLyrics_agg.reset_index()\n",
        "df_subLyrics_agg\n"
      ],
      "execution_count": null,
      "outputs": [
        {
          "output_type": "execute_result",
          "data": {
            "text/html": [
              "<div>\n",
              "<style scoped>\n",
              "    .dataframe tbody tr th:only-of-type {\n",
              "        vertical-align: middle;\n",
              "    }\n",
              "\n",
              "    .dataframe tbody tr th {\n",
              "        vertical-align: top;\n",
              "    }\n",
              "\n",
              "    .dataframe thead th {\n",
              "        text-align: right;\n",
              "    }\n",
              "</style>\n",
              "<table border=\"1\" class=\"dataframe\">\n",
              "  <thead>\n",
              "    <tr style=\"text-align: right;\">\n",
              "      <th></th>\n",
              "      <th>track_id</th>\n",
              "      <th>bagWord</th>\n",
              "    </tr>\n",
              "  </thead>\n",
              "  <tbody>\n",
              "    <tr>\n",
              "      <th>0</th>\n",
              "      <td>TRAALAH128E078234A</td>\n",
              "      <td>[know, know, know, know, one, one, one, one, o...</td>\n",
              "    </tr>\n",
              "    <tr>\n",
              "      <th>1</th>\n",
              "      <td>TRABFDT12903CADD73</td>\n",
              "      <td>[like, like, come, come, come, one, one, one, ...</td>\n",
              "    </tr>\n",
              "    <tr>\n",
              "      <th>2</th>\n",
              "      <td>TRAEHHJ12903CF492F</td>\n",
              "      <td>[love, love, know, oh, oh, oh, oh, oh, oh, oh,...</td>\n",
              "    </tr>\n",
              "    <tr>\n",
              "      <th>3</th>\n",
              "      <td>TRAFQFV128F9326217</td>\n",
              "      <td>[know, know, know, know, like, like, like, lik...</td>\n",
              "    </tr>\n",
              "    <tr>\n",
              "      <th>4</th>\n",
              "      <td>TRAFUNV128F92CFEB2</td>\n",
              "      <td>[like, like, like, like, like, go, one, one, o...</td>\n",
              "    </tr>\n",
              "    <tr>\n",
              "      <th>...</th>\n",
              "      <td>...</td>\n",
              "      <td>...</td>\n",
              "    </tr>\n",
              "    <tr>\n",
              "      <th>168</th>\n",
              "      <td>TRZJNDO128EF343498</td>\n",
              "      <td>[know, know, know, know, know, know, know, lik...</td>\n",
              "    </tr>\n",
              "    <tr>\n",
              "      <th>169</th>\n",
              "      <td>TRZJNOD128F4264131</td>\n",
              "      <td>[know, know, know, like, time, time, time, go,...</td>\n",
              "    </tr>\n",
              "    <tr>\n",
              "      <th>170</th>\n",
              "      <td>TRZPSWK128F4243514</td>\n",
              "      <td>[know, know, like, like, got, way, way, take, ...</td>\n",
              "    </tr>\n",
              "    <tr>\n",
              "      <th>171</th>\n",
              "      <td>TRZXIRJ128E0781337</td>\n",
              "      <td>[know, like, like, time, come, come, come, com...</td>\n",
              "    </tr>\n",
              "    <tr>\n",
              "      <th>172</th>\n",
              "      <td>TRZYAGJ128F9332CEF</td>\n",
              "      <td>[love, know, know, like, time, go, oh, oh, oh,...</td>\n",
              "    </tr>\n",
              "  </tbody>\n",
              "</table>\n",
              "<p>173 rows × 2 columns</p>\n",
              "</div>"
            ],
            "text/plain": [
              "               track_id                                            bagWord\n",
              "0    TRAALAH128E078234A  [know, know, know, know, one, one, one, one, o...\n",
              "1    TRABFDT12903CADD73  [like, like, come, come, come, one, one, one, ...\n",
              "2    TRAEHHJ12903CF492F  [love, love, know, oh, oh, oh, oh, oh, oh, oh,...\n",
              "3    TRAFQFV128F9326217  [know, know, know, know, like, like, like, lik...\n",
              "4    TRAFUNV128F92CFEB2  [like, like, like, like, like, go, one, one, o...\n",
              "..                  ...                                                ...\n",
              "168  TRZJNDO128EF343498  [know, know, know, know, know, know, know, lik...\n",
              "169  TRZJNOD128F4264131  [know, know, know, like, time, time, time, go,...\n",
              "170  TRZPSWK128F4243514  [know, know, like, like, got, way, way, take, ...\n",
              "171  TRZXIRJ128E0781337  [know, like, like, time, come, come, come, com...\n",
              "172  TRZYAGJ128F9332CEF  [love, know, know, like, time, go, oh, oh, oh,...\n",
              "\n",
              "[173 rows x 2 columns]"
            ]
          },
          "metadata": {
            "tags": []
          },
          "execution_count": 59
        }
      ]
    },
    {
      "cell_type": "code",
      "metadata": {
        "id": "3OsdIXsmA3S2",
        "colab_type": "code",
        "colab": {
          "base_uri": "https://localhost:8080/",
          "height": 404
        },
        "outputId": "07f0f12a-108f-4af3-dc3d-9efead3c72a9"
      },
      "source": [
        "df_subLyrics_agg[\"doc\"]=df_subLyrics_agg[\"bagWord\"].apply(lambda x:\" \".join(x))\n",
        "df_subLyrics_agg"
      ],
      "execution_count": null,
      "outputs": [
        {
          "output_type": "execute_result",
          "data": {
            "text/html": [
              "<div>\n",
              "<style scoped>\n",
              "    .dataframe tbody tr th:only-of-type {\n",
              "        vertical-align: middle;\n",
              "    }\n",
              "\n",
              "    .dataframe tbody tr th {\n",
              "        vertical-align: top;\n",
              "    }\n",
              "\n",
              "    .dataframe thead th {\n",
              "        text-align: right;\n",
              "    }\n",
              "</style>\n",
              "<table border=\"1\" class=\"dataframe\">\n",
              "  <thead>\n",
              "    <tr style=\"text-align: right;\">\n",
              "      <th></th>\n",
              "      <th>track_id</th>\n",
              "      <th>bagWord</th>\n",
              "      <th>doc</th>\n",
              "    </tr>\n",
              "  </thead>\n",
              "  <tbody>\n",
              "    <tr>\n",
              "      <th>0</th>\n",
              "      <td>TRAALAH128E078234A</td>\n",
              "      <td>[know, know, know, know, one, one, one, one, o...</td>\n",
              "      <td>know know know know one one one one one never ...</td>\n",
              "    </tr>\n",
              "    <tr>\n",
              "      <th>1</th>\n",
              "      <td>TRABFDT12903CADD73</td>\n",
              "      <td>[like, like, come, come, come, one, one, one, ...</td>\n",
              "      <td>like like come come come one one one one one o...</td>\n",
              "    </tr>\n",
              "    <tr>\n",
              "      <th>2</th>\n",
              "      <td>TRAEHHJ12903CF492F</td>\n",
              "      <td>[love, love, know, oh, oh, oh, oh, oh, oh, oh,...</td>\n",
              "      <td>love love know oh oh oh oh oh oh oh oh oh one ...</td>\n",
              "    </tr>\n",
              "    <tr>\n",
              "      <th>3</th>\n",
              "      <td>TRAFQFV128F9326217</td>\n",
              "      <td>[know, know, know, know, like, like, like, lik...</td>\n",
              "      <td>know know know know like like like like like l...</td>\n",
              "    </tr>\n",
              "    <tr>\n",
              "      <th>4</th>\n",
              "      <td>TRAFUNV128F92CFEB2</td>\n",
              "      <td>[like, like, like, like, like, go, one, one, o...</td>\n",
              "      <td>like like like like like go one one one one se...</td>\n",
              "    </tr>\n",
              "    <tr>\n",
              "      <th>...</th>\n",
              "      <td>...</td>\n",
              "      <td>...</td>\n",
              "      <td>...</td>\n",
              "    </tr>\n",
              "    <tr>\n",
              "      <th>168</th>\n",
              "      <td>TRZJNDO128EF343498</td>\n",
              "      <td>[know, know, know, know, know, know, know, lik...</td>\n",
              "      <td>know know know know know know know like like l...</td>\n",
              "    </tr>\n",
              "    <tr>\n",
              "      <th>169</th>\n",
              "      <td>TRZJNOD128F4264131</td>\n",
              "      <td>[know, know, know, like, time, time, time, go,...</td>\n",
              "      <td>know know know like time time time go go oh oh...</td>\n",
              "    </tr>\n",
              "    <tr>\n",
              "      <th>170</th>\n",
              "      <td>TRZPSWK128F4243514</td>\n",
              "      <td>[know, know, like, like, got, way, way, take, ...</td>\n",
              "      <td>know know like like got way way take take woul...</td>\n",
              "    </tr>\n",
              "    <tr>\n",
              "      <th>171</th>\n",
              "      <td>TRZXIRJ128E0781337</td>\n",
              "      <td>[know, like, like, time, come, come, come, com...</td>\n",
              "      <td>know like like time come come come come come c...</td>\n",
              "    </tr>\n",
              "    <tr>\n",
              "      <th>172</th>\n",
              "      <td>TRZYAGJ128F9332CEF</td>\n",
              "      <td>[love, know, know, like, time, go, oh, oh, oh,...</td>\n",
              "      <td>love know know like time go oh oh oh oh oh oh ...</td>\n",
              "    </tr>\n",
              "  </tbody>\n",
              "</table>\n",
              "<p>173 rows × 3 columns</p>\n",
              "</div>"
            ],
            "text/plain": [
              "               track_id  ...                                                doc\n",
              "0    TRAALAH128E078234A  ...  know know know know one one one one one never ...\n",
              "1    TRABFDT12903CADD73  ...  like like come come come one one one one one o...\n",
              "2    TRAEHHJ12903CF492F  ...  love love know oh oh oh oh oh oh oh oh oh one ...\n",
              "3    TRAFQFV128F9326217  ...  know know know know like like like like like l...\n",
              "4    TRAFUNV128F92CFEB2  ...  like like like like like go one one one one se...\n",
              "..                  ...  ...                                                ...\n",
              "168  TRZJNDO128EF343498  ...  know know know know know know know like like l...\n",
              "169  TRZJNOD128F4264131  ...  know know know like time time time go go oh oh...\n",
              "170  TRZPSWK128F4243514  ...  know know like like got way way take take woul...\n",
              "171  TRZXIRJ128E0781337  ...  know like like time come come come come come c...\n",
              "172  TRZYAGJ128F9332CEF  ...  love know know like time go oh oh oh oh oh oh ...\n",
              "\n",
              "[173 rows x 3 columns]"
            ]
          },
          "metadata": {
            "tags": []
          },
          "execution_count": 60
        }
      ]
    },
    {
      "cell_type": "code",
      "metadata": {
        "id": "tmAeT_yKA-FW",
        "colab_type": "code",
        "colab": {}
      },
      "source": [
        "doc_complete = df_subLyrics_agg.iloc[:,1]\n",
        "doc_complete=doc_complete.tolist()"
      ],
      "execution_count": null,
      "outputs": []
    },
    {
      "cell_type": "code",
      "metadata": {
        "id": "MVR1SztDBDDw",
        "colab_type": "code",
        "colab": {}
      },
      "source": [
        "import gensim\n",
        "from gensim import corpora\n",
        "dictionary = corpora.Dictionary(doc_complete)\n",
        "\n",
        "doc_term_matrix = [dictionary.doc2bow(doc) for doc in doc_complete]\n"
      ],
      "execution_count": null,
      "outputs": []
    },
    {
      "cell_type": "code",
      "metadata": {
        "id": "XJ5o8i15BFr8",
        "colab_type": "code",
        "colab": {}
      },
      "source": [
        "Lda = gensim.models.ldamodel.LdaModel\n",
        "# ldamodel = Lda(doc_term_matrix, id2word = dictionary, passes=50,per_word_topics=True)\n",
        "\n",
        "lda_model = gensim.models.ldamodel.LdaModel(corpus=doc_term_matrix,\n",
        "                                           id2word=dictionary,\n",
        "                                           num_topics=10, \n",
        "                                           random_state=100,\n",
        "                                           update_every=1,\n",
        "                                           chunksize=100,\n",
        "                                           passes=10,\n",
        "                                           alpha='auto',\n",
        "                                           per_word_topics=True)\n",
        "\n",
        "text_data=df_subLyrics_agg.doc.values.tolist()\n",
        "text_data_t=[[x] for x in text_data]\n",
        "\n",
        "data_test = df_subLyrics_agg.doc.values.tolist()\n",
        "\n",
        "doc_lda = lda_model[doc_term_matrix]"
      ],
      "execution_count": null,
      "outputs": []
    },
    {
      "cell_type": "code",
      "metadata": {
        "id": "xfOA6VQzBH0V",
        "colab_type": "code",
        "colab": {
          "base_uri": "https://localhost:8080/",
          "height": 371
        },
        "outputId": "79ad1d34-c005-4542-dcde-f8549b6abd2b"
      },
      "source": [
        "lda_model.print_topics()"
      ],
      "execution_count": null,
      "outputs": [
        {
          "output_type": "execute_result",
          "data": {
            "text/plain": [
              "[(0,\n",
              "  '0.030*\"like\" + 0.023*\"come\" + 0.014*\"got\" + 0.013*\"love\" + 0.012*\"get\" + 0.010*\"go\" + 0.009*\"think\" + 0.009*\"see\" + 0.009*\"almost\" + 0.009*\"let\"'),\n",
              " (1,\n",
              "  '0.026*\"keep\" + 0.019*\"got\" + 0.017*\"man\" + 0.015*\"babi\" + 0.013*\"know\" + 0.012*\"time\" + 0.012*\"wait\" + 0.012*\"want\" + 0.011*\"well\" + 0.011*\"let\"'),\n",
              " (2,\n",
              "  '0.147*\"da\" + 0.036*\"shot\" + 0.021*\"say\" + 0.014*\"whatcha\" + 0.014*\"chang\" + 0.013*\"master\" + 0.010*\"tie\" + 0.010*\"mm\" + 0.010*\"aint\" + 0.010*\"ca\"'),\n",
              " (3,\n",
              "  '0.099*\"la\" + 0.044*\"que\" + 0.024*\"te\" + 0.020*\"gent\" + 0.016*\"de\" + 0.016*\"e\" + 0.015*\"tu\" + 0.013*\"en\" + 0.012*\"lieb\" + 0.012*\"ich\"'),\n",
              " (4,\n",
              "  '0.032*\"oh\" + 0.031*\"girl\" + 0.028*\"take\" + 0.024*\"babi\" + 0.023*\"like\" + 0.022*\"yeah\" + 0.021*\"home\" + 0.020*\"na\" + 0.020*\"got\" + 0.019*\"want\"'),\n",
              " (5,\n",
              "  '0.031*\"one\" + 0.021*\"know\" + 0.017*\"love\" + 0.017*\"oh\" + 0.016*\"time\" + 0.013*\"girl\" + 0.013*\"feel\" + 0.012*\"world\" + 0.012*\"want\" + 0.011*\"ca\"'),\n",
              " (6,\n",
              "  '0.052*\"cri\" + 0.041*\"tonight\" + 0.031*\"one\" + 0.026*\"shake\" + 0.025*\"bang\" + 0.025*\"le\" + 0.023*\"lone\" + 0.020*\"girl\" + 0.020*\"babi\" + 0.019*\"fall\"'),\n",
              " (7,\n",
              "  '0.045*\"love\" + 0.036*\"oh\" + 0.026*\"heart\" + 0.023*\"half\" + 0.020*\"hey\" + 0.017*\"tell\" + 0.016*\"ooh\" + 0.016*\"would\" + 0.012*\"touch\" + 0.011*\"float\"'),\n",
              " (8,\n",
              "  '0.054*\"oh\" + 0.033*\"yeah\" + 0.032*\"wake\" + 0.020*\"make\" + 0.018*\"never\" + 0.017*\"away\" + 0.016*\"find\" + 0.015*\"rain\" + 0.013*\"work\" + 0.012*\"u\"'),\n",
              " (9,\n",
              "  '0.035*\"imma\" + 0.024*\"hey\" + 0.023*\"know\" + 0.018*\"go\" + 0.013*\"see\" + 0.012*\"gonna\" + 0.012*\"love\" + 0.012*\"like\" + 0.011*\"wanna\" + 0.011*\"way\"')]"
            ]
          },
          "metadata": {
            "tags": []
          },
          "execution_count": 64
        }
      ]
    },
    {
      "cell_type": "code",
      "metadata": {
        "id": "NjP-8ba8BL4w",
        "colab_type": "code",
        "colab": {}
      },
      "source": [
        "def format_topics_sentences(ldamodel=lda_model, corpus=doc_term_matrix, texts=data_test):\n",
        "    # Init output\n",
        "    sent_topics_df = pd.DataFrame()\n",
        "    data_rows=[]\n",
        "    # Get main topic in each document\n",
        "    for i, row in enumerate(ldamodel[corpus]):\n",
        "        row = (row[0])\n",
        "        # Get the Dominant topic, Perc Contribution and Keywords for each document\n",
        "        \n",
        "        topic_contr={\n",
        "            0:0,\n",
        "            1:0,\n",
        "            2:0,\n",
        "            3:0,\n",
        "            4:0,\n",
        "            5:0,\n",
        "            6:0,\n",
        "            7:0,\n",
        "            8:0,\n",
        "            9:0\n",
        "        }\n",
        "        for j, (topic_num, prop_topic) in enumerate(row):\n",
        "            # if j == 0:  # => dominant topic\n",
        "              wp = ldamodel.show_topic(topic_num)\n",
        "              topic_keywords = \", \".join([word for word, prop in wp])\n",
        "              topic_contr[topic_num]=round(prop_topic,4)\n",
        "        data_rows.append(topic_contr)\n",
        "    contents = pd.Series(texts)\n",
        "    sent_topics_df = pd.DataFrame(data_rows)\n",
        "    sent_topics_df = pd.concat([sent_topics_df, contents], axis=1)\n",
        "    return(sent_topics_df)"
      ],
      "execution_count": null,
      "outputs": []
    },
    {
      "cell_type": "code",
      "metadata": {
        "id": "o_sAJp8cBxRG",
        "colab_type": "code",
        "colab": {
          "base_uri": "https://localhost:8080/",
          "height": 1000
        },
        "outputId": "4c07416b-2a96-438a-c084-a3cd2712f81e"
      },
      "source": [
        "df_topic_sents_keywords = format_topics_sentences()\n",
        "# Format\n",
        "df_dominant_topic = df_topic_sents_keywords.reset_index(drop=True)\n",
        "df_dominant_topic.columns = ['Topic_0','Topic_1','Topic_2','Topic_3','Topic_4','Topic_5','Topic_6','Topic_7','Topic_8','Topic_9','Text']\n",
        "df_dominant_topic['track_id']=df_subLyrics_agg.iloc[:,0]\n",
        "\n",
        "# # Show\n",
        "# df_dominant_topic=df_dominant_topic.sort_values(by=['Dominant_Topic'])\n",
        "\n",
        "display(df_dominant_topic)"
      ],
      "execution_count": null,
      "outputs": [
        {
          "output_type": "display_data",
          "data": {
            "text/html": [
              "<div>\n",
              "<style scoped>\n",
              "    .dataframe tbody tr th:only-of-type {\n",
              "        vertical-align: middle;\n",
              "    }\n",
              "\n",
              "    .dataframe tbody tr th {\n",
              "        vertical-align: top;\n",
              "    }\n",
              "\n",
              "    .dataframe thead th {\n",
              "        text-align: right;\n",
              "    }\n",
              "</style>\n",
              "<table border=\"1\" class=\"dataframe\">\n",
              "  <thead>\n",
              "    <tr style=\"text-align: right;\">\n",
              "      <th></th>\n",
              "      <th>Topic_0</th>\n",
              "      <th>Topic_1</th>\n",
              "      <th>Topic_2</th>\n",
              "      <th>Topic_3</th>\n",
              "      <th>Topic_4</th>\n",
              "      <th>Topic_5</th>\n",
              "      <th>Topic_6</th>\n",
              "      <th>Topic_7</th>\n",
              "      <th>Topic_8</th>\n",
              "      <th>Topic_9</th>\n",
              "      <th>Text</th>\n",
              "      <th>track_id</th>\n",
              "    </tr>\n",
              "  </thead>\n",
              "  <tbody>\n",
              "    <tr>\n",
              "      <th>0</th>\n",
              "      <td>0.0000</td>\n",
              "      <td>0.0000</td>\n",
              "      <td>0.7917</td>\n",
              "      <td>0.0</td>\n",
              "      <td>0.0000</td>\n",
              "      <td>0.1129</td>\n",
              "      <td>0.0241</td>\n",
              "      <td>0.0000</td>\n",
              "      <td>0.0000</td>\n",
              "      <td>0.0691</td>\n",
              "      <td>know know know know one one one one one never ...</td>\n",
              "      <td>TRAALAH128E078234A</td>\n",
              "    </tr>\n",
              "    <tr>\n",
              "      <th>1</th>\n",
              "      <td>0.0000</td>\n",
              "      <td>0.0000</td>\n",
              "      <td>0.0000</td>\n",
              "      <td>0.0</td>\n",
              "      <td>0.0000</td>\n",
              "      <td>0.0000</td>\n",
              "      <td>0.0000</td>\n",
              "      <td>0.0000</td>\n",
              "      <td>0.9974</td>\n",
              "      <td>0.0000</td>\n",
              "      <td>like like come come come one one one one one o...</td>\n",
              "      <td>TRABFDT12903CADD73</td>\n",
              "    </tr>\n",
              "    <tr>\n",
              "      <th>2</th>\n",
              "      <td>0.0000</td>\n",
              "      <td>0.0000</td>\n",
              "      <td>0.0000</td>\n",
              "      <td>0.0</td>\n",
              "      <td>0.0000</td>\n",
              "      <td>0.9947</td>\n",
              "      <td>0.0000</td>\n",
              "      <td>0.0000</td>\n",
              "      <td>0.0000</td>\n",
              "      <td>0.0000</td>\n",
              "      <td>love love know oh oh oh oh oh oh oh oh oh one ...</td>\n",
              "      <td>TRAEHHJ12903CF492F</td>\n",
              "    </tr>\n",
              "    <tr>\n",
              "      <th>3</th>\n",
              "      <td>0.0000</td>\n",
              "      <td>0.0000</td>\n",
              "      <td>0.0000</td>\n",
              "      <td>0.0</td>\n",
              "      <td>0.7252</td>\n",
              "      <td>0.0000</td>\n",
              "      <td>0.0000</td>\n",
              "      <td>0.0000</td>\n",
              "      <td>0.0000</td>\n",
              "      <td>0.2723</td>\n",
              "      <td>know know know know like like like like like l...</td>\n",
              "      <td>TRAFQFV128F9326217</td>\n",
              "    </tr>\n",
              "    <tr>\n",
              "      <th>4</th>\n",
              "      <td>0.1984</td>\n",
              "      <td>0.0000</td>\n",
              "      <td>0.0000</td>\n",
              "      <td>0.0</td>\n",
              "      <td>0.0000</td>\n",
              "      <td>0.4131</td>\n",
              "      <td>0.2838</td>\n",
              "      <td>0.0000</td>\n",
              "      <td>0.0265</td>\n",
              "      <td>0.0760</td>\n",
              "      <td>like like like like like go one one one one se...</td>\n",
              "      <td>TRAFUNV128F92CFEB2</td>\n",
              "    </tr>\n",
              "    <tr>\n",
              "      <th>...</th>\n",
              "      <td>...</td>\n",
              "      <td>...</td>\n",
              "      <td>...</td>\n",
              "      <td>...</td>\n",
              "      <td>...</td>\n",
              "      <td>...</td>\n",
              "      <td>...</td>\n",
              "      <td>...</td>\n",
              "      <td>...</td>\n",
              "      <td>...</td>\n",
              "      <td>...</td>\n",
              "      <td>...</td>\n",
              "    </tr>\n",
              "    <tr>\n",
              "      <th>168</th>\n",
              "      <td>0.0000</td>\n",
              "      <td>0.0000</td>\n",
              "      <td>0.0000</td>\n",
              "      <td>0.0</td>\n",
              "      <td>0.0000</td>\n",
              "      <td>0.2791</td>\n",
              "      <td>0.0000</td>\n",
              "      <td>0.0391</td>\n",
              "      <td>0.5979</td>\n",
              "      <td>0.0820</td>\n",
              "      <td>know know know know know know know like like l...</td>\n",
              "      <td>TRZJNDO128EF343498</td>\n",
              "    </tr>\n",
              "    <tr>\n",
              "      <th>169</th>\n",
              "      <td>0.0221</td>\n",
              "      <td>0.0000</td>\n",
              "      <td>0.0103</td>\n",
              "      <td>0.0</td>\n",
              "      <td>0.8201</td>\n",
              "      <td>0.1302</td>\n",
              "      <td>0.0000</td>\n",
              "      <td>0.0000</td>\n",
              "      <td>0.0000</td>\n",
              "      <td>0.0163</td>\n",
              "      <td>know know know like time time time go go oh oh...</td>\n",
              "      <td>TRZJNOD128F4264131</td>\n",
              "    </tr>\n",
              "    <tr>\n",
              "      <th>170</th>\n",
              "      <td>0.0616</td>\n",
              "      <td>0.0000</td>\n",
              "      <td>0.0000</td>\n",
              "      <td>0.0</td>\n",
              "      <td>0.0000</td>\n",
              "      <td>0.9336</td>\n",
              "      <td>0.0000</td>\n",
              "      <td>0.0000</td>\n",
              "      <td>0.0000</td>\n",
              "      <td>0.0000</td>\n",
              "      <td>know know like like got way way take take woul...</td>\n",
              "      <td>TRZPSWK128F4243514</td>\n",
              "    </tr>\n",
              "    <tr>\n",
              "      <th>171</th>\n",
              "      <td>0.7489</td>\n",
              "      <td>0.0407</td>\n",
              "      <td>0.0000</td>\n",
              "      <td>0.0</td>\n",
              "      <td>0.0000</td>\n",
              "      <td>0.1054</td>\n",
              "      <td>0.0000</td>\n",
              "      <td>0.0780</td>\n",
              "      <td>0.0255</td>\n",
              "      <td>0.0000</td>\n",
              "      <td>know like like time come come come come come c...</td>\n",
              "      <td>TRZXIRJ128E0781337</td>\n",
              "    </tr>\n",
              "    <tr>\n",
              "      <th>172</th>\n",
              "      <td>0.0000</td>\n",
              "      <td>0.0000</td>\n",
              "      <td>0.0000</td>\n",
              "      <td>0.0</td>\n",
              "      <td>0.0000</td>\n",
              "      <td>0.9473</td>\n",
              "      <td>0.0000</td>\n",
              "      <td>0.0000</td>\n",
              "      <td>0.0000</td>\n",
              "      <td>0.0371</td>\n",
              "      <td>love know know like time go oh oh oh oh oh oh ...</td>\n",
              "      <td>TRZYAGJ128F9332CEF</td>\n",
              "    </tr>\n",
              "  </tbody>\n",
              "</table>\n",
              "<p>173 rows × 12 columns</p>\n",
              "</div>"
            ],
            "text/plain": [
              "     Topic_0  ...            track_id\n",
              "0     0.0000  ...  TRAALAH128E078234A\n",
              "1     0.0000  ...  TRABFDT12903CADD73\n",
              "2     0.0000  ...  TRAEHHJ12903CF492F\n",
              "3     0.0000  ...  TRAFQFV128F9326217\n",
              "4     0.1984  ...  TRAFUNV128F92CFEB2\n",
              "..       ...  ...                 ...\n",
              "168   0.0000  ...  TRZJNDO128EF343498\n",
              "169   0.0221  ...  TRZJNOD128F4264131\n",
              "170   0.0616  ...  TRZPSWK128F4243514\n",
              "171   0.7489  ...  TRZXIRJ128E0781337\n",
              "172   0.0000  ...  TRZYAGJ128F9332CEF\n",
              "\n",
              "[173 rows x 12 columns]"
            ]
          },
          "metadata": {
            "tags": []
          }
        }
      ]
    },
    {
      "cell_type": "code",
      "metadata": {
        "id": "XKXtJHV4OQWM",
        "colab_type": "code",
        "colab": {}
      },
      "source": [
        "df_train_features=pd.merge(df_dominant_topic,df_visible,on='track_id')\n",
        "df_train_features.shape\n",
        "df_train_features.to_csv('/content/drive/My Drive/ADS/final/final_train_songs_large.csv')"
      ],
      "execution_count": null,
      "outputs": []
    },
    {
      "cell_type": "code",
      "metadata": {
        "id": "8oQ1K4hNOrcY",
        "colab_type": "code",
        "colab": {
          "base_uri": "https://localhost:8080/",
          "height": 33
        },
        "outputId": "df61ebc6-1c03-4056-a674-c576ca846b73"
      },
      "source": [
        "df_test_features=pd.merge(df_dominant_topic,df_hidden,on='track_id')\n",
        "display(df_test_features.shape)\n",
        "df_test_features.to_csv('/content/drive/My Drive/ADS/final/final_test_songs_large.csv')"
      ],
      "execution_count": null,
      "outputs": [
        {
          "output_type": "display_data",
          "data": {
            "text/plain": [
              "(277, 27)"
            ]
          },
          "metadata": {
            "tags": []
          }
        }
      ]
    },
    {
      "cell_type": "markdown",
      "metadata": {
        "id": "ZN2csfg9e_g6",
        "colab_type": "text"
      },
      "source": [
        "#Create Rating/Status for Test"
      ]
    },
    {
      "cell_type": "markdown",
      "metadata": {
        "id": "IG6afGTJf0XB",
        "colab_type": "text"
      },
      "source": [
        "Find Cross Multiplication between all user_id and track_id"
      ]
    },
    {
      "cell_type": "code",
      "metadata": {
        "id": "XK_FLZCLFIMg",
        "colab_type": "code",
        "colab": {
          "base_uri": "https://localhost:8080/",
          "height": 84
        },
        "outputId": "27e29c58-c76d-4ffa-b8f0-5c8e12285b13"
      },
      "source": [
        "lyrics_metadata.columns"
      ],
      "execution_count": null,
      "outputs": [
        {
          "output_type": "execute_result",
          "data": {
            "text/plain": [
              "Index(['track_id', 'title', 'song_id', 'release', 'artist_id', 'artist_mbid',\n",
              "       'artist_name', 'duration', 'artist_familiarity', 'artist_hotttnesss',\n",
              "       'year', 'track_7digitalid', 'shs_perf', 'shs_work'],\n",
              "      dtype='object')"
            ]
          },
          "metadata": {
            "tags": []
          },
          "execution_count": 69
        }
      ]
    },
    {
      "cell_type": "code",
      "metadata": {
        "id": "f7cfGroJwSvb",
        "colab_type": "code",
        "colab": {
          "base_uri": "https://localhost:8080/",
          "height": 301
        },
        "outputId": "c912bbbe-79ac-4a1d-e5da-bc2cb5f65243"
      },
      "source": [
        "df_visible.count()"
      ],
      "execution_count": null,
      "outputs": [
        {
          "output_type": "execute_result",
          "data": {
            "text/plain": [
              "user_id               369\n",
              "song_id               369\n",
              "freq_song             369\n",
              "track_id              369\n",
              "title                 369\n",
              "release               369\n",
              "artist_id             369\n",
              "artist_mbid           369\n",
              "artist_name           369\n",
              "duration              369\n",
              "artist_familiarity    369\n",
              "artist_hotttnesss     369\n",
              "year                  369\n",
              "track_7digitalid      369\n",
              "shs_perf              369\n",
              "shs_work              369\n",
              "dtype: int64"
            ]
          },
          "metadata": {
            "tags": []
          },
          "execution_count": 70
        }
      ]
    },
    {
      "cell_type": "code",
      "metadata": {
        "id": "OO_1_gQ5Drpn",
        "colab_type": "code",
        "colab": {}
      },
      "source": [
        ""
      ],
      "execution_count": null,
      "outputs": []
    },
    {
      "cell_type": "code",
      "metadata": {
        "id": "4G5Ku75e4m0C",
        "colab_type": "code",
        "colab": {
          "base_uri": "https://localhost:8080/",
          "height": 33
        },
        "outputId": "9ed15d80-a89b-4710-add4-8035849d4e6a"
      },
      "source": [
        "df_visible['user_id'].nunique()"
      ],
      "execution_count": null,
      "outputs": [
        {
          "output_type": "execute_result",
          "data": {
            "text/plain": [
              "31"
            ]
          },
          "metadata": {
            "tags": []
          },
          "execution_count": 71
        }
      ]
    },
    {
      "cell_type": "code",
      "metadata": {
        "id": "Zuas4MrJ4uFW",
        "colab_type": "code",
        "colab": {
          "base_uri": "https://localhost:8080/",
          "height": 33
        },
        "outputId": "f1252175-f5d7-4f51-f148-af4f0a7f6d89"
      },
      "source": [
        "df_hidden['user_id'].nunique()"
      ],
      "execution_count": null,
      "outputs": [
        {
          "output_type": "execute_result",
          "data": {
            "text/plain": [
              "31"
            ]
          },
          "metadata": {
            "tags": []
          },
          "execution_count": 72
        }
      ]
    },
    {
      "cell_type": "code",
      "metadata": {
        "id": "K18Rfj2Q426o",
        "colab_type": "code",
        "colab": {
          "base_uri": "https://localhost:8080/",
          "height": 33
        },
        "outputId": "c23ae8ce-48ed-4e57-a1ea-08c459879d3e"
      },
      "source": [
        "print(len(availableTracks_visible),len(availableTracks_hidden))"
      ],
      "execution_count": null,
      "outputs": [
        {
          "output_type": "stream",
          "text": [
            "93 80\n"
          ],
          "name": "stdout"
        }
      ]
    },
    {
      "cell_type": "code",
      "metadata": {
        "id": "yHa2mNwQfy-v",
        "colab_type": "code",
        "colab": {}
      },
      "source": [
        "index_hidden = pd.MultiIndex.from_product([availableUsers,availableTracks_hidden], names = [\"user_id\",\"track_id\"])\n",
        "df_rating_hidden=pd.DataFrame(index = index_hidden).reset_index()"
      ],
      "execution_count": null,
      "outputs": []
    },
    {
      "cell_type": "code",
      "metadata": {
        "id": "e2nF2rwK4EnD",
        "colab_type": "code",
        "colab": {}
      },
      "source": [
        "index_visible = pd.MultiIndex.from_product([availableUsers,availableTracks_visible], names = [\"user_id\",\"track_id\"])\n",
        "df_rating_visible=pd.DataFrame(index = index_visible).reset_index()"
      ],
      "execution_count": null,
      "outputs": []
    },
    {
      "cell_type": "code",
      "metadata": {
        "id": "nLksnOUUp9FA",
        "colab_type": "code",
        "colab": {
          "base_uri": "https://localhost:8080/",
          "height": 33
        },
        "outputId": "46b88147-13ba-4911-8f34-3c11153a1fcc"
      },
      "source": [
        "df_rating_hidden.shape"
      ],
      "execution_count": null,
      "outputs": [
        {
          "output_type": "execute_result",
          "data": {
            "text/plain": [
              "(2480, 2)"
            ]
          },
          "metadata": {
            "tags": []
          },
          "execution_count": 76
        }
      ]
    },
    {
      "cell_type": "code",
      "metadata": {
        "id": "Ju93FVa94Vqg",
        "colab_type": "code",
        "colab": {
          "base_uri": "https://localhost:8080/",
          "height": 33
        },
        "outputId": "6d26f759-a0dd-416b-ae65-0edaf9143208"
      },
      "source": [
        "df_rating_visible.shape"
      ],
      "execution_count": null,
      "outputs": [
        {
          "output_type": "execute_result",
          "data": {
            "text/plain": [
              "(2883, 2)"
            ]
          },
          "metadata": {
            "tags": []
          },
          "execution_count": 77
        }
      ]
    },
    {
      "cell_type": "code",
      "metadata": {
        "id": "c6FN8trwZr32",
        "colab_type": "code",
        "colab": {}
      },
      "source": [
        ""
      ],
      "execution_count": null,
      "outputs": []
    },
    {
      "cell_type": "markdown",
      "metadata": {
        "id": "aSVxmX7ilsDc",
        "colab_type": "text"
      },
      "source": [
        "Merge Cross Product dataframe to get song_metadata"
      ]
    },
    {
      "cell_type": "code",
      "metadata": {
        "id": "WQgEuoNiiIpA",
        "colab_type": "code",
        "colab": {
          "base_uri": "https://localhost:8080/",
          "height": 33
        },
        "outputId": "1b305bde-5b53-46b8-ae28-ccc519c933cd"
      },
      "source": [
        "mapping_songs_hidden=pd.merge(df_rating_hidden,lyrics_metadata,on=['track_id'],how='left')\n",
        "display(mapping_songs_hidden.shape)"
      ],
      "execution_count": null,
      "outputs": [
        {
          "output_type": "display_data",
          "data": {
            "text/plain": [
              "(2480, 15)"
            ]
          },
          "metadata": {
            "tags": []
          }
        }
      ]
    },
    {
      "cell_type": "code",
      "metadata": {
        "id": "jDwMrZ4R5Y3y",
        "colab_type": "code",
        "colab": {
          "base_uri": "https://localhost:8080/",
          "height": 33
        },
        "outputId": "cd1389da-346e-4602-cd54-832701044b9e"
      },
      "source": [
        "mapping_songs_visible=pd.merge(df_rating_visible,lyrics_metadata,on=['track_id'],how='left')\n",
        "display(mapping_songs_visible.shape)"
      ],
      "execution_count": null,
      "outputs": [
        {
          "output_type": "display_data",
          "data": {
            "text/plain": [
              "(2883, 15)"
            ]
          },
          "metadata": {
            "tags": []
          }
        }
      ]
    },
    {
      "cell_type": "code",
      "metadata": {
        "id": "hVX2TiQCsZCt",
        "colab_type": "code",
        "colab": {}
      },
      "source": [
        "# mapping_songs.head()"
      ],
      "execution_count": null,
      "outputs": []
    },
    {
      "cell_type": "code",
      "metadata": {
        "id": "bDbZCsfJxN0z",
        "colab_type": "code",
        "colab": {}
      },
      "source": [
        "mapping_songs_hidden=pd.merge(df_dominant_topic,mapping_songs_hidden,on='track_id')\n",
        "mapping_songs_visible=pd.merge(df_dominant_topic,mapping_songs_visible,on='track_id')"
      ],
      "execution_count": null,
      "outputs": []
    },
    {
      "cell_type": "markdown",
      "metadata": {
        "id": "WuSIPm6Dl07T",
        "colab_type": "text"
      },
      "source": [
        "Merge Cross Product meta_data to for every user_id"
      ]
    },
    {
      "cell_type": "code",
      "metadata": {
        "id": "UpNHvXwBijMK",
        "colab_type": "code",
        "colab": {
          "base_uri": "https://localhost:8080/",
          "height": 33
        },
        "outputId": "0e334e65-6977-4a74-9bec-6e0cb0e66665"
      },
      "source": [
        "df_final_hidden=pd.merge(mapping_songs_hidden,df_hidden.loc[:,['user_id','track_id','freq_song']],how='left',on=['user_id','track_id'])\n",
        "df_final_hidden.shape"
      ],
      "execution_count": null,
      "outputs": [
        {
          "output_type": "execute_result",
          "data": {
            "text/plain": [
              "(2480, 27)"
            ]
          },
          "metadata": {
            "tags": []
          },
          "execution_count": 82
        }
      ]
    },
    {
      "cell_type": "code",
      "metadata": {
        "id": "u7uaPJRVQLkI",
        "colab_type": "code",
        "colab": {
          "base_uri": "https://localhost:8080/",
          "height": 117
        },
        "outputId": "3748aa91-0947-48e2-8671-a3b69d8a8cbd"
      },
      "source": [
        "df_final_hidden.columns"
      ],
      "execution_count": null,
      "outputs": [
        {
          "output_type": "execute_result",
          "data": {
            "text/plain": [
              "Index(['Topic_0', 'Topic_1', 'Topic_2', 'Topic_3', 'Topic_4', 'Topic_5',\n",
              "       'Topic_6', 'Topic_7', 'Topic_8', 'Topic_9', 'Text', 'track_id',\n",
              "       'user_id', 'title', 'song_id', 'release', 'artist_id', 'artist_mbid',\n",
              "       'artist_name', 'duration', 'artist_familiarity', 'artist_hotttnesss',\n",
              "       'year', 'track_7digitalid', 'shs_perf', 'shs_work', 'freq_song'],\n",
              "      dtype='object')"
            ]
          },
          "metadata": {
            "tags": []
          },
          "execution_count": 83
        }
      ]
    },
    {
      "cell_type": "code",
      "metadata": {
        "id": "mTMftMMYtjBL",
        "colab_type": "code",
        "colab": {
          "base_uri": "https://localhost:8080/",
          "height": 33
        },
        "outputId": "be424d22-3188-460d-f193-40d858934a30"
      },
      "source": [
        "df_final_visible=pd.merge(mapping_songs_visible,df_visible.loc[:,['user_id','track_id','freq_song']],how='left',on=['user_id','track_id'])\n",
        "df_final_visible.shape"
      ],
      "execution_count": null,
      "outputs": [
        {
          "output_type": "execute_result",
          "data": {
            "text/plain": [
              "(2883, 27)"
            ]
          },
          "metadata": {
            "tags": []
          },
          "execution_count": 84
        }
      ]
    },
    {
      "cell_type": "markdown",
      "metadata": {
        "id": "ruJGebDOmBTP",
        "colab_type": "text"
      },
      "source": [
        "#Add Unary Rating\n",
        "Add Rating 0 if user hasn't listened to the song \n",
        "Add Rating 1 if user has listened to the song"
      ]
    },
    {
      "cell_type": "code",
      "metadata": {
        "id": "5FU20AzijY5V",
        "colab_type": "code",
        "colab": {
          "base_uri": "https://localhost:8080/",
          "height": 1000
        },
        "outputId": "9fbf6034-8aa4-4e5f-9b4e-e269d2ce7510"
      },
      "source": [
        "display(df_final_hidden.head())\n",
        "df_final_hidden['freq_song']=df_final_hidden['freq_song'].fillna(0)\n",
        "df_final_hidden['status']=df_final_hidden.apply(lambda x: 1 if x['freq_song']>0 else 0,axis=1)\n"
      ],
      "execution_count": null,
      "outputs": [
        {
          "output_type": "display_data",
          "data": {
            "text/html": [
              "<div>\n",
              "<style scoped>\n",
              "    .dataframe tbody tr th:only-of-type {\n",
              "        vertical-align: middle;\n",
              "    }\n",
              "\n",
              "    .dataframe tbody tr th {\n",
              "        vertical-align: top;\n",
              "    }\n",
              "\n",
              "    .dataframe thead th {\n",
              "        text-align: right;\n",
              "    }\n",
              "</style>\n",
              "<table border=\"1\" class=\"dataframe\">\n",
              "  <thead>\n",
              "    <tr style=\"text-align: right;\">\n",
              "      <th></th>\n",
              "      <th>Topic_0</th>\n",
              "      <th>Topic_1</th>\n",
              "      <th>Topic_2</th>\n",
              "      <th>Topic_3</th>\n",
              "      <th>Topic_4</th>\n",
              "      <th>Topic_5</th>\n",
              "      <th>Topic_6</th>\n",
              "      <th>Topic_7</th>\n",
              "      <th>Topic_8</th>\n",
              "      <th>Topic_9</th>\n",
              "      <th>Text</th>\n",
              "      <th>track_id</th>\n",
              "      <th>user_id</th>\n",
              "      <th>title</th>\n",
              "      <th>song_id</th>\n",
              "      <th>release</th>\n",
              "      <th>artist_id</th>\n",
              "      <th>artist_mbid</th>\n",
              "      <th>artist_name</th>\n",
              "      <th>duration</th>\n",
              "      <th>artist_familiarity</th>\n",
              "      <th>artist_hotttnesss</th>\n",
              "      <th>year</th>\n",
              "      <th>track_7digitalid</th>\n",
              "      <th>shs_perf</th>\n",
              "      <th>shs_work</th>\n",
              "      <th>freq_song</th>\n",
              "    </tr>\n",
              "  </thead>\n",
              "  <tbody>\n",
              "    <tr>\n",
              "      <th>0</th>\n",
              "      <td>0.0</td>\n",
              "      <td>0.0</td>\n",
              "      <td>0.0</td>\n",
              "      <td>0.0</td>\n",
              "      <td>0.0</td>\n",
              "      <td>0.0</td>\n",
              "      <td>0.0</td>\n",
              "      <td>0.0</td>\n",
              "      <td>0.9974</td>\n",
              "      <td>0.0</td>\n",
              "      <td>like like come come come one one one one one o...</td>\n",
              "      <td>TRABFDT12903CADD73</td>\n",
              "      <td>01047b99e00bb0743f66bb321bdd62e38fddb0a5</td>\n",
              "      <td>Up Up &amp; Away</td>\n",
              "      <td>SOARUPP12AB01842E0</td>\n",
              "      <td>Man On The Moon: The End Of Day</td>\n",
              "      <td>ARD46C811C8A414F3F</td>\n",
              "      <td>e0e1db18-f7ba-4dee-95ff-7ae8cf545460</td>\n",
              "      <td>Kid Cudi</td>\n",
              "      <td>227.34322</td>\n",
              "      <td>0.808767</td>\n",
              "      <td>0.796314</td>\n",
              "      <td>2009</td>\n",
              "      <td>6394026</td>\n",
              "      <td>-1</td>\n",
              "      <td>0</td>\n",
              "      <td>1.0</td>\n",
              "    </tr>\n",
              "    <tr>\n",
              "      <th>1</th>\n",
              "      <td>0.0</td>\n",
              "      <td>0.0</td>\n",
              "      <td>0.0</td>\n",
              "      <td>0.0</td>\n",
              "      <td>0.0</td>\n",
              "      <td>0.0</td>\n",
              "      <td>0.0</td>\n",
              "      <td>0.0</td>\n",
              "      <td>0.9974</td>\n",
              "      <td>0.0</td>\n",
              "      <td>like like come come come one one one one one o...</td>\n",
              "      <td>TRABFDT12903CADD73</td>\n",
              "      <td>126ee2cc7dfb9bfb8e831633a5443a9b2b7490c0</td>\n",
              "      <td>Up Up &amp; Away</td>\n",
              "      <td>SOARUPP12AB01842E0</td>\n",
              "      <td>Man On The Moon: The End Of Day</td>\n",
              "      <td>ARD46C811C8A414F3F</td>\n",
              "      <td>e0e1db18-f7ba-4dee-95ff-7ae8cf545460</td>\n",
              "      <td>Kid Cudi</td>\n",
              "      <td>227.34322</td>\n",
              "      <td>0.808767</td>\n",
              "      <td>0.796314</td>\n",
              "      <td>2009</td>\n",
              "      <td>6394026</td>\n",
              "      <td>-1</td>\n",
              "      <td>0</td>\n",
              "      <td>NaN</td>\n",
              "    </tr>\n",
              "    <tr>\n",
              "      <th>2</th>\n",
              "      <td>0.0</td>\n",
              "      <td>0.0</td>\n",
              "      <td>0.0</td>\n",
              "      <td>0.0</td>\n",
              "      <td>0.0</td>\n",
              "      <td>0.0</td>\n",
              "      <td>0.0</td>\n",
              "      <td>0.0</td>\n",
              "      <td>0.9974</td>\n",
              "      <td>0.0</td>\n",
              "      <td>like like come come come one one one one one o...</td>\n",
              "      <td>TRABFDT12903CADD73</td>\n",
              "      <td>1b8c08ef0705ff5b9329c175904e3c48d8f6b116</td>\n",
              "      <td>Up Up &amp; Away</td>\n",
              "      <td>SOARUPP12AB01842E0</td>\n",
              "      <td>Man On The Moon: The End Of Day</td>\n",
              "      <td>ARD46C811C8A414F3F</td>\n",
              "      <td>e0e1db18-f7ba-4dee-95ff-7ae8cf545460</td>\n",
              "      <td>Kid Cudi</td>\n",
              "      <td>227.34322</td>\n",
              "      <td>0.808767</td>\n",
              "      <td>0.796314</td>\n",
              "      <td>2009</td>\n",
              "      <td>6394026</td>\n",
              "      <td>-1</td>\n",
              "      <td>0</td>\n",
              "      <td>NaN</td>\n",
              "    </tr>\n",
              "    <tr>\n",
              "      <th>3</th>\n",
              "      <td>0.0</td>\n",
              "      <td>0.0</td>\n",
              "      <td>0.0</td>\n",
              "      <td>0.0</td>\n",
              "      <td>0.0</td>\n",
              "      <td>0.0</td>\n",
              "      <td>0.0</td>\n",
              "      <td>0.0</td>\n",
              "      <td>0.9974</td>\n",
              "      <td>0.0</td>\n",
              "      <td>like like come come come one one one one one o...</td>\n",
              "      <td>TRABFDT12903CADD73</td>\n",
              "      <td>206bd0676fe110325996506f393538fbf422549e</td>\n",
              "      <td>Up Up &amp; Away</td>\n",
              "      <td>SOARUPP12AB01842E0</td>\n",
              "      <td>Man On The Moon: The End Of Day</td>\n",
              "      <td>ARD46C811C8A414F3F</td>\n",
              "      <td>e0e1db18-f7ba-4dee-95ff-7ae8cf545460</td>\n",
              "      <td>Kid Cudi</td>\n",
              "      <td>227.34322</td>\n",
              "      <td>0.808767</td>\n",
              "      <td>0.796314</td>\n",
              "      <td>2009</td>\n",
              "      <td>6394026</td>\n",
              "      <td>-1</td>\n",
              "      <td>0</td>\n",
              "      <td>NaN</td>\n",
              "    </tr>\n",
              "    <tr>\n",
              "      <th>4</th>\n",
              "      <td>0.0</td>\n",
              "      <td>0.0</td>\n",
              "      <td>0.0</td>\n",
              "      <td>0.0</td>\n",
              "      <td>0.0</td>\n",
              "      <td>0.0</td>\n",
              "      <td>0.0</td>\n",
              "      <td>0.0</td>\n",
              "      <td>0.9974</td>\n",
              "      <td>0.0</td>\n",
              "      <td>like like come come come one one one one one o...</td>\n",
              "      <td>TRABFDT12903CADD73</td>\n",
              "      <td>291a37c97bedabb862b2f6bad7f439cf72123d84</td>\n",
              "      <td>Up Up &amp; Away</td>\n",
              "      <td>SOARUPP12AB01842E0</td>\n",
              "      <td>Man On The Moon: The End Of Day</td>\n",
              "      <td>ARD46C811C8A414F3F</td>\n",
              "      <td>e0e1db18-f7ba-4dee-95ff-7ae8cf545460</td>\n",
              "      <td>Kid Cudi</td>\n",
              "      <td>227.34322</td>\n",
              "      <td>0.808767</td>\n",
              "      <td>0.796314</td>\n",
              "      <td>2009</td>\n",
              "      <td>6394026</td>\n",
              "      <td>-1</td>\n",
              "      <td>0</td>\n",
              "      <td>NaN</td>\n",
              "    </tr>\n",
              "  </tbody>\n",
              "</table>\n",
              "</div>"
            ],
            "text/plain": [
              "   Topic_0  Topic_1  Topic_2  ...  shs_perf  shs_work  freq_song\n",
              "0      0.0      0.0      0.0  ...        -1         0        1.0\n",
              "1      0.0      0.0      0.0  ...        -1         0        NaN\n",
              "2      0.0      0.0      0.0  ...        -1         0        NaN\n",
              "3      0.0      0.0      0.0  ...        -1         0        NaN\n",
              "4      0.0      0.0      0.0  ...        -1         0        NaN\n",
              "\n",
              "[5 rows x 27 columns]"
            ]
          },
          "metadata": {
            "tags": []
          }
        }
      ]
    },
    {
      "cell_type": "code",
      "metadata": {
        "id": "6wySK-3ut0bs",
        "colab_type": "code",
        "colab": {
          "base_uri": "https://localhost:8080/",
          "height": 1000
        },
        "outputId": "52f86d7a-b77e-4fd4-aac2-b466cd17dfd2"
      },
      "source": [
        "display(df_final_hidden.head())\n",
        "df_final_visible['freq_song']=df_final_visible['freq_song'].fillna(0)\n",
        "df_final_visible['status']=df_final_visible.apply(lambda x: 1 if x['freq_song']>0 else 0,axis=1)"
      ],
      "execution_count": null,
      "outputs": [
        {
          "output_type": "display_data",
          "data": {
            "text/html": [
              "<div>\n",
              "<style scoped>\n",
              "    .dataframe tbody tr th:only-of-type {\n",
              "        vertical-align: middle;\n",
              "    }\n",
              "\n",
              "    .dataframe tbody tr th {\n",
              "        vertical-align: top;\n",
              "    }\n",
              "\n",
              "    .dataframe thead th {\n",
              "        text-align: right;\n",
              "    }\n",
              "</style>\n",
              "<table border=\"1\" class=\"dataframe\">\n",
              "  <thead>\n",
              "    <tr style=\"text-align: right;\">\n",
              "      <th></th>\n",
              "      <th>Topic_0</th>\n",
              "      <th>Topic_1</th>\n",
              "      <th>Topic_2</th>\n",
              "      <th>Topic_3</th>\n",
              "      <th>Topic_4</th>\n",
              "      <th>Topic_5</th>\n",
              "      <th>Topic_6</th>\n",
              "      <th>Topic_7</th>\n",
              "      <th>Topic_8</th>\n",
              "      <th>Topic_9</th>\n",
              "      <th>Text</th>\n",
              "      <th>track_id</th>\n",
              "      <th>user_id</th>\n",
              "      <th>title</th>\n",
              "      <th>song_id</th>\n",
              "      <th>release</th>\n",
              "      <th>artist_id</th>\n",
              "      <th>artist_mbid</th>\n",
              "      <th>artist_name</th>\n",
              "      <th>duration</th>\n",
              "      <th>artist_familiarity</th>\n",
              "      <th>artist_hotttnesss</th>\n",
              "      <th>year</th>\n",
              "      <th>track_7digitalid</th>\n",
              "      <th>shs_perf</th>\n",
              "      <th>shs_work</th>\n",
              "      <th>freq_song</th>\n",
              "      <th>status</th>\n",
              "    </tr>\n",
              "  </thead>\n",
              "  <tbody>\n",
              "    <tr>\n",
              "      <th>0</th>\n",
              "      <td>0.0</td>\n",
              "      <td>0.0</td>\n",
              "      <td>0.0</td>\n",
              "      <td>0.0</td>\n",
              "      <td>0.0</td>\n",
              "      <td>0.0</td>\n",
              "      <td>0.0</td>\n",
              "      <td>0.0</td>\n",
              "      <td>0.9974</td>\n",
              "      <td>0.0</td>\n",
              "      <td>like like come come come one one one one one o...</td>\n",
              "      <td>TRABFDT12903CADD73</td>\n",
              "      <td>01047b99e00bb0743f66bb321bdd62e38fddb0a5</td>\n",
              "      <td>Up Up &amp; Away</td>\n",
              "      <td>SOARUPP12AB01842E0</td>\n",
              "      <td>Man On The Moon: The End Of Day</td>\n",
              "      <td>ARD46C811C8A414F3F</td>\n",
              "      <td>e0e1db18-f7ba-4dee-95ff-7ae8cf545460</td>\n",
              "      <td>Kid Cudi</td>\n",
              "      <td>227.34322</td>\n",
              "      <td>0.808767</td>\n",
              "      <td>0.796314</td>\n",
              "      <td>2009</td>\n",
              "      <td>6394026</td>\n",
              "      <td>-1</td>\n",
              "      <td>0</td>\n",
              "      <td>1.0</td>\n",
              "      <td>1</td>\n",
              "    </tr>\n",
              "    <tr>\n",
              "      <th>1</th>\n",
              "      <td>0.0</td>\n",
              "      <td>0.0</td>\n",
              "      <td>0.0</td>\n",
              "      <td>0.0</td>\n",
              "      <td>0.0</td>\n",
              "      <td>0.0</td>\n",
              "      <td>0.0</td>\n",
              "      <td>0.0</td>\n",
              "      <td>0.9974</td>\n",
              "      <td>0.0</td>\n",
              "      <td>like like come come come one one one one one o...</td>\n",
              "      <td>TRABFDT12903CADD73</td>\n",
              "      <td>126ee2cc7dfb9bfb8e831633a5443a9b2b7490c0</td>\n",
              "      <td>Up Up &amp; Away</td>\n",
              "      <td>SOARUPP12AB01842E0</td>\n",
              "      <td>Man On The Moon: The End Of Day</td>\n",
              "      <td>ARD46C811C8A414F3F</td>\n",
              "      <td>e0e1db18-f7ba-4dee-95ff-7ae8cf545460</td>\n",
              "      <td>Kid Cudi</td>\n",
              "      <td>227.34322</td>\n",
              "      <td>0.808767</td>\n",
              "      <td>0.796314</td>\n",
              "      <td>2009</td>\n",
              "      <td>6394026</td>\n",
              "      <td>-1</td>\n",
              "      <td>0</td>\n",
              "      <td>0.0</td>\n",
              "      <td>0</td>\n",
              "    </tr>\n",
              "    <tr>\n",
              "      <th>2</th>\n",
              "      <td>0.0</td>\n",
              "      <td>0.0</td>\n",
              "      <td>0.0</td>\n",
              "      <td>0.0</td>\n",
              "      <td>0.0</td>\n",
              "      <td>0.0</td>\n",
              "      <td>0.0</td>\n",
              "      <td>0.0</td>\n",
              "      <td>0.9974</td>\n",
              "      <td>0.0</td>\n",
              "      <td>like like come come come one one one one one o...</td>\n",
              "      <td>TRABFDT12903CADD73</td>\n",
              "      <td>1b8c08ef0705ff5b9329c175904e3c48d8f6b116</td>\n",
              "      <td>Up Up &amp; Away</td>\n",
              "      <td>SOARUPP12AB01842E0</td>\n",
              "      <td>Man On The Moon: The End Of Day</td>\n",
              "      <td>ARD46C811C8A414F3F</td>\n",
              "      <td>e0e1db18-f7ba-4dee-95ff-7ae8cf545460</td>\n",
              "      <td>Kid Cudi</td>\n",
              "      <td>227.34322</td>\n",
              "      <td>0.808767</td>\n",
              "      <td>0.796314</td>\n",
              "      <td>2009</td>\n",
              "      <td>6394026</td>\n",
              "      <td>-1</td>\n",
              "      <td>0</td>\n",
              "      <td>0.0</td>\n",
              "      <td>0</td>\n",
              "    </tr>\n",
              "    <tr>\n",
              "      <th>3</th>\n",
              "      <td>0.0</td>\n",
              "      <td>0.0</td>\n",
              "      <td>0.0</td>\n",
              "      <td>0.0</td>\n",
              "      <td>0.0</td>\n",
              "      <td>0.0</td>\n",
              "      <td>0.0</td>\n",
              "      <td>0.0</td>\n",
              "      <td>0.9974</td>\n",
              "      <td>0.0</td>\n",
              "      <td>like like come come come one one one one one o...</td>\n",
              "      <td>TRABFDT12903CADD73</td>\n",
              "      <td>206bd0676fe110325996506f393538fbf422549e</td>\n",
              "      <td>Up Up &amp; Away</td>\n",
              "      <td>SOARUPP12AB01842E0</td>\n",
              "      <td>Man On The Moon: The End Of Day</td>\n",
              "      <td>ARD46C811C8A414F3F</td>\n",
              "      <td>e0e1db18-f7ba-4dee-95ff-7ae8cf545460</td>\n",
              "      <td>Kid Cudi</td>\n",
              "      <td>227.34322</td>\n",
              "      <td>0.808767</td>\n",
              "      <td>0.796314</td>\n",
              "      <td>2009</td>\n",
              "      <td>6394026</td>\n",
              "      <td>-1</td>\n",
              "      <td>0</td>\n",
              "      <td>0.0</td>\n",
              "      <td>0</td>\n",
              "    </tr>\n",
              "    <tr>\n",
              "      <th>4</th>\n",
              "      <td>0.0</td>\n",
              "      <td>0.0</td>\n",
              "      <td>0.0</td>\n",
              "      <td>0.0</td>\n",
              "      <td>0.0</td>\n",
              "      <td>0.0</td>\n",
              "      <td>0.0</td>\n",
              "      <td>0.0</td>\n",
              "      <td>0.9974</td>\n",
              "      <td>0.0</td>\n",
              "      <td>like like come come come one one one one one o...</td>\n",
              "      <td>TRABFDT12903CADD73</td>\n",
              "      <td>291a37c97bedabb862b2f6bad7f439cf72123d84</td>\n",
              "      <td>Up Up &amp; Away</td>\n",
              "      <td>SOARUPP12AB01842E0</td>\n",
              "      <td>Man On The Moon: The End Of Day</td>\n",
              "      <td>ARD46C811C8A414F3F</td>\n",
              "      <td>e0e1db18-f7ba-4dee-95ff-7ae8cf545460</td>\n",
              "      <td>Kid Cudi</td>\n",
              "      <td>227.34322</td>\n",
              "      <td>0.808767</td>\n",
              "      <td>0.796314</td>\n",
              "      <td>2009</td>\n",
              "      <td>6394026</td>\n",
              "      <td>-1</td>\n",
              "      <td>0</td>\n",
              "      <td>0.0</td>\n",
              "      <td>0</td>\n",
              "    </tr>\n",
              "  </tbody>\n",
              "</table>\n",
              "</div>"
            ],
            "text/plain": [
              "   Topic_0  Topic_1  Topic_2  Topic_3  ...  shs_perf  shs_work  freq_song  status\n",
              "0      0.0      0.0      0.0      0.0  ...        -1         0        1.0       1\n",
              "1      0.0      0.0      0.0      0.0  ...        -1         0        0.0       0\n",
              "2      0.0      0.0      0.0      0.0  ...        -1         0        0.0       0\n",
              "3      0.0      0.0      0.0      0.0  ...        -1         0        0.0       0\n",
              "4      0.0      0.0      0.0      0.0  ...        -1         0        0.0       0\n",
              "\n",
              "[5 rows x 28 columns]"
            ]
          },
          "metadata": {
            "tags": []
          }
        }
      ]
    },
    {
      "cell_type": "code",
      "metadata": {
        "id": "pAK1mjTKkm6s",
        "colab_type": "code",
        "colab": {
          "base_uri": "https://localhost:8080/",
          "height": 1000
        },
        "outputId": "df4b0b17-4b78-448a-ed7c-ddb99779e6d4"
      },
      "source": [
        "display(df_final_hidden.head())\n",
        "print(len(df_final_hidden))"
      ],
      "execution_count": null,
      "outputs": [
        {
          "output_type": "display_data",
          "data": {
            "text/html": [
              "<div>\n",
              "<style scoped>\n",
              "    .dataframe tbody tr th:only-of-type {\n",
              "        vertical-align: middle;\n",
              "    }\n",
              "\n",
              "    .dataframe tbody tr th {\n",
              "        vertical-align: top;\n",
              "    }\n",
              "\n",
              "    .dataframe thead th {\n",
              "        text-align: right;\n",
              "    }\n",
              "</style>\n",
              "<table border=\"1\" class=\"dataframe\">\n",
              "  <thead>\n",
              "    <tr style=\"text-align: right;\">\n",
              "      <th></th>\n",
              "      <th>Topic_0</th>\n",
              "      <th>Topic_1</th>\n",
              "      <th>Topic_2</th>\n",
              "      <th>Topic_3</th>\n",
              "      <th>Topic_4</th>\n",
              "      <th>Topic_5</th>\n",
              "      <th>Topic_6</th>\n",
              "      <th>Topic_7</th>\n",
              "      <th>Topic_8</th>\n",
              "      <th>Topic_9</th>\n",
              "      <th>Text</th>\n",
              "      <th>track_id</th>\n",
              "      <th>user_id</th>\n",
              "      <th>title</th>\n",
              "      <th>song_id</th>\n",
              "      <th>release</th>\n",
              "      <th>artist_id</th>\n",
              "      <th>artist_mbid</th>\n",
              "      <th>artist_name</th>\n",
              "      <th>duration</th>\n",
              "      <th>artist_familiarity</th>\n",
              "      <th>artist_hotttnesss</th>\n",
              "      <th>year</th>\n",
              "      <th>track_7digitalid</th>\n",
              "      <th>shs_perf</th>\n",
              "      <th>shs_work</th>\n",
              "      <th>freq_song</th>\n",
              "      <th>status</th>\n",
              "    </tr>\n",
              "  </thead>\n",
              "  <tbody>\n",
              "    <tr>\n",
              "      <th>0</th>\n",
              "      <td>0.0</td>\n",
              "      <td>0.0</td>\n",
              "      <td>0.0</td>\n",
              "      <td>0.0</td>\n",
              "      <td>0.0</td>\n",
              "      <td>0.0</td>\n",
              "      <td>0.0</td>\n",
              "      <td>0.0</td>\n",
              "      <td>0.9974</td>\n",
              "      <td>0.0</td>\n",
              "      <td>like like come come come one one one one one o...</td>\n",
              "      <td>TRABFDT12903CADD73</td>\n",
              "      <td>01047b99e00bb0743f66bb321bdd62e38fddb0a5</td>\n",
              "      <td>Up Up &amp; Away</td>\n",
              "      <td>SOARUPP12AB01842E0</td>\n",
              "      <td>Man On The Moon: The End Of Day</td>\n",
              "      <td>ARD46C811C8A414F3F</td>\n",
              "      <td>e0e1db18-f7ba-4dee-95ff-7ae8cf545460</td>\n",
              "      <td>Kid Cudi</td>\n",
              "      <td>227.34322</td>\n",
              "      <td>0.808767</td>\n",
              "      <td>0.796314</td>\n",
              "      <td>2009</td>\n",
              "      <td>6394026</td>\n",
              "      <td>-1</td>\n",
              "      <td>0</td>\n",
              "      <td>1.0</td>\n",
              "      <td>1</td>\n",
              "    </tr>\n",
              "    <tr>\n",
              "      <th>1</th>\n",
              "      <td>0.0</td>\n",
              "      <td>0.0</td>\n",
              "      <td>0.0</td>\n",
              "      <td>0.0</td>\n",
              "      <td>0.0</td>\n",
              "      <td>0.0</td>\n",
              "      <td>0.0</td>\n",
              "      <td>0.0</td>\n",
              "      <td>0.9974</td>\n",
              "      <td>0.0</td>\n",
              "      <td>like like come come come one one one one one o...</td>\n",
              "      <td>TRABFDT12903CADD73</td>\n",
              "      <td>126ee2cc7dfb9bfb8e831633a5443a9b2b7490c0</td>\n",
              "      <td>Up Up &amp; Away</td>\n",
              "      <td>SOARUPP12AB01842E0</td>\n",
              "      <td>Man On The Moon: The End Of Day</td>\n",
              "      <td>ARD46C811C8A414F3F</td>\n",
              "      <td>e0e1db18-f7ba-4dee-95ff-7ae8cf545460</td>\n",
              "      <td>Kid Cudi</td>\n",
              "      <td>227.34322</td>\n",
              "      <td>0.808767</td>\n",
              "      <td>0.796314</td>\n",
              "      <td>2009</td>\n",
              "      <td>6394026</td>\n",
              "      <td>-1</td>\n",
              "      <td>0</td>\n",
              "      <td>0.0</td>\n",
              "      <td>0</td>\n",
              "    </tr>\n",
              "    <tr>\n",
              "      <th>2</th>\n",
              "      <td>0.0</td>\n",
              "      <td>0.0</td>\n",
              "      <td>0.0</td>\n",
              "      <td>0.0</td>\n",
              "      <td>0.0</td>\n",
              "      <td>0.0</td>\n",
              "      <td>0.0</td>\n",
              "      <td>0.0</td>\n",
              "      <td>0.9974</td>\n",
              "      <td>0.0</td>\n",
              "      <td>like like come come come one one one one one o...</td>\n",
              "      <td>TRABFDT12903CADD73</td>\n",
              "      <td>1b8c08ef0705ff5b9329c175904e3c48d8f6b116</td>\n",
              "      <td>Up Up &amp; Away</td>\n",
              "      <td>SOARUPP12AB01842E0</td>\n",
              "      <td>Man On The Moon: The End Of Day</td>\n",
              "      <td>ARD46C811C8A414F3F</td>\n",
              "      <td>e0e1db18-f7ba-4dee-95ff-7ae8cf545460</td>\n",
              "      <td>Kid Cudi</td>\n",
              "      <td>227.34322</td>\n",
              "      <td>0.808767</td>\n",
              "      <td>0.796314</td>\n",
              "      <td>2009</td>\n",
              "      <td>6394026</td>\n",
              "      <td>-1</td>\n",
              "      <td>0</td>\n",
              "      <td>0.0</td>\n",
              "      <td>0</td>\n",
              "    </tr>\n",
              "    <tr>\n",
              "      <th>3</th>\n",
              "      <td>0.0</td>\n",
              "      <td>0.0</td>\n",
              "      <td>0.0</td>\n",
              "      <td>0.0</td>\n",
              "      <td>0.0</td>\n",
              "      <td>0.0</td>\n",
              "      <td>0.0</td>\n",
              "      <td>0.0</td>\n",
              "      <td>0.9974</td>\n",
              "      <td>0.0</td>\n",
              "      <td>like like come come come one one one one one o...</td>\n",
              "      <td>TRABFDT12903CADD73</td>\n",
              "      <td>206bd0676fe110325996506f393538fbf422549e</td>\n",
              "      <td>Up Up &amp; Away</td>\n",
              "      <td>SOARUPP12AB01842E0</td>\n",
              "      <td>Man On The Moon: The End Of Day</td>\n",
              "      <td>ARD46C811C8A414F3F</td>\n",
              "      <td>e0e1db18-f7ba-4dee-95ff-7ae8cf545460</td>\n",
              "      <td>Kid Cudi</td>\n",
              "      <td>227.34322</td>\n",
              "      <td>0.808767</td>\n",
              "      <td>0.796314</td>\n",
              "      <td>2009</td>\n",
              "      <td>6394026</td>\n",
              "      <td>-1</td>\n",
              "      <td>0</td>\n",
              "      <td>0.0</td>\n",
              "      <td>0</td>\n",
              "    </tr>\n",
              "    <tr>\n",
              "      <th>4</th>\n",
              "      <td>0.0</td>\n",
              "      <td>0.0</td>\n",
              "      <td>0.0</td>\n",
              "      <td>0.0</td>\n",
              "      <td>0.0</td>\n",
              "      <td>0.0</td>\n",
              "      <td>0.0</td>\n",
              "      <td>0.0</td>\n",
              "      <td>0.9974</td>\n",
              "      <td>0.0</td>\n",
              "      <td>like like come come come one one one one one o...</td>\n",
              "      <td>TRABFDT12903CADD73</td>\n",
              "      <td>291a37c97bedabb862b2f6bad7f439cf72123d84</td>\n",
              "      <td>Up Up &amp; Away</td>\n",
              "      <td>SOARUPP12AB01842E0</td>\n",
              "      <td>Man On The Moon: The End Of Day</td>\n",
              "      <td>ARD46C811C8A414F3F</td>\n",
              "      <td>e0e1db18-f7ba-4dee-95ff-7ae8cf545460</td>\n",
              "      <td>Kid Cudi</td>\n",
              "      <td>227.34322</td>\n",
              "      <td>0.808767</td>\n",
              "      <td>0.796314</td>\n",
              "      <td>2009</td>\n",
              "      <td>6394026</td>\n",
              "      <td>-1</td>\n",
              "      <td>0</td>\n",
              "      <td>0.0</td>\n",
              "      <td>0</td>\n",
              "    </tr>\n",
              "  </tbody>\n",
              "</table>\n",
              "</div>"
            ],
            "text/plain": [
              "   Topic_0  Topic_1  Topic_2  Topic_3  ...  shs_perf  shs_work  freq_song  status\n",
              "0      0.0      0.0      0.0      0.0  ...        -1         0        1.0       1\n",
              "1      0.0      0.0      0.0      0.0  ...        -1         0        0.0       0\n",
              "2      0.0      0.0      0.0      0.0  ...        -1         0        0.0       0\n",
              "3      0.0      0.0      0.0      0.0  ...        -1         0        0.0       0\n",
              "4      0.0      0.0      0.0      0.0  ...        -1         0        0.0       0\n",
              "\n",
              "[5 rows x 28 columns]"
            ]
          },
          "metadata": {
            "tags": []
          }
        },
        {
          "output_type": "stream",
          "text": [
            "2480\n"
          ],
          "name": "stdout"
        }
      ]
    },
    {
      "cell_type": "code",
      "metadata": {
        "id": "6FZTOr6Dt-AI",
        "colab_type": "code",
        "colab": {
          "base_uri": "https://localhost:8080/",
          "height": 33
        },
        "outputId": "c2f91d2d-0bac-4d2d-89c4-5d63b6bbe2e5"
      },
      "source": [
        "df_final_visible.head()\n",
        "print(len(df_final_visible))"
      ],
      "execution_count": null,
      "outputs": [
        {
          "output_type": "stream",
          "text": [
            "2883\n"
          ],
          "name": "stdout"
        }
      ]
    },
    {
      "cell_type": "code",
      "metadata": {
        "id": "TBPSqMgUkwHx",
        "colab_type": "code",
        "colab": {}
      },
      "source": [
        "df_final_hidden.to_csv('/content/drive/My Drive/ADS/final/final_test_topics_large.csv')"
      ],
      "execution_count": null,
      "outputs": []
    },
    {
      "cell_type": "markdown",
      "metadata": {
        "id": "seKBUSTX6tqw",
        "colab_type": "text"
      },
      "source": [
        "#Ratio\n"
      ]
    },
    {
      "cell_type": "code",
      "metadata": {
        "id": "qpTEPdo8k0lU",
        "colab_type": "code",
        "colab": {
          "base_uri": "https://localhost:8080/",
          "height": 67
        },
        "outputId": "ca8c13f0-90f4-4b72-b5f4-c2b5ed77abdd"
      },
      "source": [
        "df_final_hidden['status'].value_counts()"
      ],
      "execution_count": null,
      "outputs": [
        {
          "output_type": "execute_result",
          "data": {
            "text/plain": [
              "0    2203\n",
              "1     277\n",
              "Name: status, dtype: int64"
            ]
          },
          "metadata": {
            "tags": []
          },
          "execution_count": 90
        }
      ]
    },
    {
      "cell_type": "code",
      "metadata": {
        "id": "F4KCMMohprRZ",
        "colab_type": "code",
        "colab": {}
      },
      "source": [
        "df_final_visible.to_csv('/content/drive/My Drive/ADS/final/final_train_topics_large.csv')"
      ],
      "execution_count": null,
      "outputs": []
    },
    {
      "cell_type": "code",
      "metadata": {
        "id": "H9mqnjTWuT0r",
        "colab_type": "code",
        "colab": {
          "base_uri": "https://localhost:8080/",
          "height": 67
        },
        "outputId": "1310d313-28a6-4d6f-e79c-b967b1f3f1ef"
      },
      "source": [
        "  df_final_visible['status'].value_counts()"
      ],
      "execution_count": null,
      "outputs": [
        {
          "output_type": "execute_result",
          "data": {
            "text/plain": [
              "0    2514\n",
              "1     369\n",
              "Name: status, dtype: int64"
            ]
          },
          "metadata": {
            "tags": []
          },
          "execution_count": 92
        }
      ]
    },
    {
      "cell_type": "code",
      "metadata": {
        "id": "UM57MoDUyLEw",
        "colab_type": "code",
        "colab": {
          "base_uri": "https://localhost:8080/",
          "height": 1000
        },
        "outputId": "4a1f4314-d2ac-4fe7-dc77-54c2604d76a6"
      },
      "source": [
        "df_final_visible.head()"
      ],
      "execution_count": null,
      "outputs": [
        {
          "output_type": "execute_result",
          "data": {
            "text/html": [
              "<div>\n",
              "<style scoped>\n",
              "    .dataframe tbody tr th:only-of-type {\n",
              "        vertical-align: middle;\n",
              "    }\n",
              "\n",
              "    .dataframe tbody tr th {\n",
              "        vertical-align: top;\n",
              "    }\n",
              "\n",
              "    .dataframe thead th {\n",
              "        text-align: right;\n",
              "    }\n",
              "</style>\n",
              "<table border=\"1\" class=\"dataframe\">\n",
              "  <thead>\n",
              "    <tr style=\"text-align: right;\">\n",
              "      <th></th>\n",
              "      <th>Topic_0</th>\n",
              "      <th>Topic_1</th>\n",
              "      <th>Topic_2</th>\n",
              "      <th>Topic_3</th>\n",
              "      <th>Topic_4</th>\n",
              "      <th>Topic_5</th>\n",
              "      <th>Topic_6</th>\n",
              "      <th>Topic_7</th>\n",
              "      <th>Topic_8</th>\n",
              "      <th>Topic_9</th>\n",
              "      <th>Text</th>\n",
              "      <th>track_id</th>\n",
              "      <th>user_id</th>\n",
              "      <th>title</th>\n",
              "      <th>song_id</th>\n",
              "      <th>release</th>\n",
              "      <th>artist_id</th>\n",
              "      <th>artist_mbid</th>\n",
              "      <th>artist_name</th>\n",
              "      <th>duration</th>\n",
              "      <th>artist_familiarity</th>\n",
              "      <th>artist_hotttnesss</th>\n",
              "      <th>year</th>\n",
              "      <th>track_7digitalid</th>\n",
              "      <th>shs_perf</th>\n",
              "      <th>shs_work</th>\n",
              "      <th>freq_song</th>\n",
              "      <th>status</th>\n",
              "    </tr>\n",
              "  </thead>\n",
              "  <tbody>\n",
              "    <tr>\n",
              "      <th>0</th>\n",
              "      <td>0.0</td>\n",
              "      <td>0.0</td>\n",
              "      <td>0.7917</td>\n",
              "      <td>0.0</td>\n",
              "      <td>0.0</td>\n",
              "      <td>0.1129</td>\n",
              "      <td>0.0241</td>\n",
              "      <td>0.0</td>\n",
              "      <td>0.0</td>\n",
              "      <td>0.0691</td>\n",
              "      <td>know know know know one one one one one never ...</td>\n",
              "      <td>TRAALAH128E078234A</td>\n",
              "      <td>01047b99e00bb0743f66bb321bdd62e38fddb0a5</td>\n",
              "      <td>Bitter Sweet Symphony</td>\n",
              "      <td>SOXQYSC12A6310E908</td>\n",
              "      <td>Bitter Sweet Symphony</td>\n",
              "      <td>AR0L04E1187B9AE90C</td>\n",
              "      <td>d4d17620-fd97-4574-92a8-a2cb7e72ce42</td>\n",
              "      <td>The Verve</td>\n",
              "      <td>360.25424</td>\n",
              "      <td>0.76773</td>\n",
              "      <td>0.58781</td>\n",
              "      <td>1997</td>\n",
              "      <td>9634</td>\n",
              "      <td>-1</td>\n",
              "      <td>0</td>\n",
              "      <td>0.0</td>\n",
              "      <td>0</td>\n",
              "    </tr>\n",
              "    <tr>\n",
              "      <th>1</th>\n",
              "      <td>0.0</td>\n",
              "      <td>0.0</td>\n",
              "      <td>0.7917</td>\n",
              "      <td>0.0</td>\n",
              "      <td>0.0</td>\n",
              "      <td>0.1129</td>\n",
              "      <td>0.0241</td>\n",
              "      <td>0.0</td>\n",
              "      <td>0.0</td>\n",
              "      <td>0.0691</td>\n",
              "      <td>know know know know one one one one one never ...</td>\n",
              "      <td>TRAALAH128E078234A</td>\n",
              "      <td>126ee2cc7dfb9bfb8e831633a5443a9b2b7490c0</td>\n",
              "      <td>Bitter Sweet Symphony</td>\n",
              "      <td>SOXQYSC12A6310E908</td>\n",
              "      <td>Bitter Sweet Symphony</td>\n",
              "      <td>AR0L04E1187B9AE90C</td>\n",
              "      <td>d4d17620-fd97-4574-92a8-a2cb7e72ce42</td>\n",
              "      <td>The Verve</td>\n",
              "      <td>360.25424</td>\n",
              "      <td>0.76773</td>\n",
              "      <td>0.58781</td>\n",
              "      <td>1997</td>\n",
              "      <td>9634</td>\n",
              "      <td>-1</td>\n",
              "      <td>0</td>\n",
              "      <td>0.0</td>\n",
              "      <td>0</td>\n",
              "    </tr>\n",
              "    <tr>\n",
              "      <th>2</th>\n",
              "      <td>0.0</td>\n",
              "      <td>0.0</td>\n",
              "      <td>0.7917</td>\n",
              "      <td>0.0</td>\n",
              "      <td>0.0</td>\n",
              "      <td>0.1129</td>\n",
              "      <td>0.0241</td>\n",
              "      <td>0.0</td>\n",
              "      <td>0.0</td>\n",
              "      <td>0.0691</td>\n",
              "      <td>know know know know one one one one one never ...</td>\n",
              "      <td>TRAALAH128E078234A</td>\n",
              "      <td>1b8c08ef0705ff5b9329c175904e3c48d8f6b116</td>\n",
              "      <td>Bitter Sweet Symphony</td>\n",
              "      <td>SOXQYSC12A6310E908</td>\n",
              "      <td>Bitter Sweet Symphony</td>\n",
              "      <td>AR0L04E1187B9AE90C</td>\n",
              "      <td>d4d17620-fd97-4574-92a8-a2cb7e72ce42</td>\n",
              "      <td>The Verve</td>\n",
              "      <td>360.25424</td>\n",
              "      <td>0.76773</td>\n",
              "      <td>0.58781</td>\n",
              "      <td>1997</td>\n",
              "      <td>9634</td>\n",
              "      <td>-1</td>\n",
              "      <td>0</td>\n",
              "      <td>0.0</td>\n",
              "      <td>0</td>\n",
              "    </tr>\n",
              "    <tr>\n",
              "      <th>3</th>\n",
              "      <td>0.0</td>\n",
              "      <td>0.0</td>\n",
              "      <td>0.7917</td>\n",
              "      <td>0.0</td>\n",
              "      <td>0.0</td>\n",
              "      <td>0.1129</td>\n",
              "      <td>0.0241</td>\n",
              "      <td>0.0</td>\n",
              "      <td>0.0</td>\n",
              "      <td>0.0691</td>\n",
              "      <td>know know know know one one one one one never ...</td>\n",
              "      <td>TRAALAH128E078234A</td>\n",
              "      <td>206bd0676fe110325996506f393538fbf422549e</td>\n",
              "      <td>Bitter Sweet Symphony</td>\n",
              "      <td>SOXQYSC12A6310E908</td>\n",
              "      <td>Bitter Sweet Symphony</td>\n",
              "      <td>AR0L04E1187B9AE90C</td>\n",
              "      <td>d4d17620-fd97-4574-92a8-a2cb7e72ce42</td>\n",
              "      <td>The Verve</td>\n",
              "      <td>360.25424</td>\n",
              "      <td>0.76773</td>\n",
              "      <td>0.58781</td>\n",
              "      <td>1997</td>\n",
              "      <td>9634</td>\n",
              "      <td>-1</td>\n",
              "      <td>0</td>\n",
              "      <td>0.0</td>\n",
              "      <td>0</td>\n",
              "    </tr>\n",
              "    <tr>\n",
              "      <th>4</th>\n",
              "      <td>0.0</td>\n",
              "      <td>0.0</td>\n",
              "      <td>0.7917</td>\n",
              "      <td>0.0</td>\n",
              "      <td>0.0</td>\n",
              "      <td>0.1129</td>\n",
              "      <td>0.0241</td>\n",
              "      <td>0.0</td>\n",
              "      <td>0.0</td>\n",
              "      <td>0.0691</td>\n",
              "      <td>know know know know one one one one one never ...</td>\n",
              "      <td>TRAALAH128E078234A</td>\n",
              "      <td>291a37c97bedabb862b2f6bad7f439cf72123d84</td>\n",
              "      <td>Bitter Sweet Symphony</td>\n",
              "      <td>SOXQYSC12A6310E908</td>\n",
              "      <td>Bitter Sweet Symphony</td>\n",
              "      <td>AR0L04E1187B9AE90C</td>\n",
              "      <td>d4d17620-fd97-4574-92a8-a2cb7e72ce42</td>\n",
              "      <td>The Verve</td>\n",
              "      <td>360.25424</td>\n",
              "      <td>0.76773</td>\n",
              "      <td>0.58781</td>\n",
              "      <td>1997</td>\n",
              "      <td>9634</td>\n",
              "      <td>-1</td>\n",
              "      <td>0</td>\n",
              "      <td>5.0</td>\n",
              "      <td>1</td>\n",
              "    </tr>\n",
              "  </tbody>\n",
              "</table>\n",
              "</div>"
            ],
            "text/plain": [
              "   Topic_0  Topic_1  Topic_2  Topic_3  ...  shs_perf  shs_work  freq_song  status\n",
              "0      0.0      0.0   0.7917      0.0  ...        -1         0        0.0       0\n",
              "1      0.0      0.0   0.7917      0.0  ...        -1         0        0.0       0\n",
              "2      0.0      0.0   0.7917      0.0  ...        -1         0        0.0       0\n",
              "3      0.0      0.0   0.7917      0.0  ...        -1         0        0.0       0\n",
              "4      0.0      0.0   0.7917      0.0  ...        -1         0        5.0       1\n",
              "\n",
              "[5 rows x 28 columns]"
            ]
          },
          "metadata": {
            "tags": []
          },
          "execution_count": 93
        }
      ]
    },
    {
      "cell_type": "code",
      "metadata": {
        "id": "JrqrbKP2yOwY",
        "colab_type": "code",
        "colab": {
          "base_uri": "https://localhost:8080/",
          "height": 1000
        },
        "outputId": "62aaa021-8d29-4fdf-c20c-15c4994126cb"
      },
      "source": [
        "df_final_visible[df_final_visible.user_id=='3e154f655302a515efe03d9269f0843a012d60a2']\n"
      ],
      "execution_count": null,
      "outputs": [
        {
          "output_type": "execute_result",
          "data": {
            "text/html": [
              "<div>\n",
              "<style scoped>\n",
              "    .dataframe tbody tr th:only-of-type {\n",
              "        vertical-align: middle;\n",
              "    }\n",
              "\n",
              "    .dataframe tbody tr th {\n",
              "        vertical-align: top;\n",
              "    }\n",
              "\n",
              "    .dataframe thead th {\n",
              "        text-align: right;\n",
              "    }\n",
              "</style>\n",
              "<table border=\"1\" class=\"dataframe\">\n",
              "  <thead>\n",
              "    <tr style=\"text-align: right;\">\n",
              "      <th></th>\n",
              "      <th>Topic_0</th>\n",
              "      <th>Topic_1</th>\n",
              "      <th>Topic_2</th>\n",
              "      <th>Topic_3</th>\n",
              "      <th>Topic_4</th>\n",
              "      <th>Topic_5</th>\n",
              "      <th>Topic_6</th>\n",
              "      <th>Topic_7</th>\n",
              "      <th>Topic_8</th>\n",
              "      <th>Topic_9</th>\n",
              "      <th>Text</th>\n",
              "      <th>track_id</th>\n",
              "      <th>user_id</th>\n",
              "      <th>title</th>\n",
              "      <th>song_id</th>\n",
              "      <th>release</th>\n",
              "      <th>artist_id</th>\n",
              "      <th>artist_mbid</th>\n",
              "      <th>artist_name</th>\n",
              "      <th>duration</th>\n",
              "      <th>artist_familiarity</th>\n",
              "      <th>artist_hotttnesss</th>\n",
              "      <th>year</th>\n",
              "      <th>track_7digitalid</th>\n",
              "      <th>shs_perf</th>\n",
              "      <th>shs_work</th>\n",
              "      <th>freq_song</th>\n",
              "      <th>status</th>\n",
              "    </tr>\n",
              "  </thead>\n",
              "  <tbody>\n",
              "    <tr>\n",
              "      <th>6</th>\n",
              "      <td>0.0000</td>\n",
              "      <td>0.0000</td>\n",
              "      <td>0.7917</td>\n",
              "      <td>0.0</td>\n",
              "      <td>0.0000</td>\n",
              "      <td>0.1129</td>\n",
              "      <td>0.0241</td>\n",
              "      <td>0.0000</td>\n",
              "      <td>0.0000</td>\n",
              "      <td>0.0691</td>\n",
              "      <td>know know know know one one one one one never ...</td>\n",
              "      <td>TRAALAH128E078234A</td>\n",
              "      <td>3e154f655302a515efe03d9269f0843a012d60a2</td>\n",
              "      <td>Bitter Sweet Symphony</td>\n",
              "      <td>SOXQYSC12A6310E908</td>\n",
              "      <td>Bitter Sweet Symphony</td>\n",
              "      <td>AR0L04E1187B9AE90C</td>\n",
              "      <td>d4d17620-fd97-4574-92a8-a2cb7e72ce42</td>\n",
              "      <td>The Verve</td>\n",
              "      <td>360.25424</td>\n",
              "      <td>0.767730</td>\n",
              "      <td>0.587810</td>\n",
              "      <td>1997</td>\n",
              "      <td>9634</td>\n",
              "      <td>-1</td>\n",
              "      <td>0</td>\n",
              "      <td>0.0</td>\n",
              "      <td>0</td>\n",
              "    </tr>\n",
              "    <tr>\n",
              "      <th>37</th>\n",
              "      <td>0.0000</td>\n",
              "      <td>0.0000</td>\n",
              "      <td>0.0000</td>\n",
              "      <td>0.0</td>\n",
              "      <td>0.0000</td>\n",
              "      <td>0.9947</td>\n",
              "      <td>0.0000</td>\n",
              "      <td>0.0000</td>\n",
              "      <td>0.0000</td>\n",
              "      <td>0.0000</td>\n",
              "      <td>love love know oh oh oh oh oh oh oh oh oh one ...</td>\n",
              "      <td>TRAEHHJ12903CF492F</td>\n",
              "      <td>3e154f655302a515efe03d9269f0843a012d60a2</td>\n",
              "      <td>You're The One</td>\n",
              "      <td>SOBONKR12A58A7A7E0</td>\n",
              "      <td>If There Was A Way</td>\n",
              "      <td>AR5E44Z1187B9A1D74</td>\n",
              "      <td>0fb711af-c7ba-4bdc-b0b6-b8495fc0a590</td>\n",
              "      <td>Dwight Yoakam</td>\n",
              "      <td>239.30730</td>\n",
              "      <td>0.775370</td>\n",
              "      <td>0.514569</td>\n",
              "      <td>1990</td>\n",
              "      <td>6686507</td>\n",
              "      <td>-1</td>\n",
              "      <td>0</td>\n",
              "      <td>3.0</td>\n",
              "      <td>1</td>\n",
              "    </tr>\n",
              "    <tr>\n",
              "      <th>68</th>\n",
              "      <td>0.0000</td>\n",
              "      <td>0.0000</td>\n",
              "      <td>0.0000</td>\n",
              "      <td>0.0</td>\n",
              "      <td>0.0000</td>\n",
              "      <td>0.0000</td>\n",
              "      <td>0.6081</td>\n",
              "      <td>0.0000</td>\n",
              "      <td>0.0000</td>\n",
              "      <td>0.3782</td>\n",
              "      <td>love love come go see let let let let let let ...</td>\n",
              "      <td>TRAOCBO12903D03670</td>\n",
              "      <td>3e154f655302a515efe03d9269f0843a012d60a2</td>\n",
              "      <td>Rianna</td>\n",
              "      <td>SONHWUN12AC468C014</td>\n",
              "      <td>The Update Collection Vol. 2</td>\n",
              "      <td>ARJIG5P1187B98D9DE</td>\n",
              "      <td>ea04c3a6-202e-4ca6-af56-53e09fd98fd2</td>\n",
              "      <td>Fisher</td>\n",
              "      <td>133.98159</td>\n",
              "      <td>0.657826</td>\n",
              "      <td>0.418252</td>\n",
              "      <td>0</td>\n",
              "      <td>6747439</td>\n",
              "      <td>-1</td>\n",
              "      <td>0</td>\n",
              "      <td>0.0</td>\n",
              "      <td>0</td>\n",
              "    </tr>\n",
              "    <tr>\n",
              "      <th>99</th>\n",
              "      <td>0.0000</td>\n",
              "      <td>0.0000</td>\n",
              "      <td>0.0000</td>\n",
              "      <td>0.0</td>\n",
              "      <td>0.0000</td>\n",
              "      <td>0.0000</td>\n",
              "      <td>0.0000</td>\n",
              "      <td>0.0000</td>\n",
              "      <td>0.9867</td>\n",
              "      <td>0.0000</td>\n",
              "      <td>oh one one yeah yeah yeah yeah yeah yeah yeah ...</td>\n",
              "      <td>TRBGCAK128F425F3CC</td>\n",
              "      <td>3e154f655302a515efe03d9269f0843a012d60a2</td>\n",
              "      <td>Firestarter</td>\n",
              "      <td>SOHHJYE12A8AE47599</td>\n",
              "      <td>Put Your Hands Up! 4</td>\n",
              "      <td>AR4L4WQ1187FB51996</td>\n",
              "      <td>4a4ee089-93b1-4470-af9a-6ff575d32704</td>\n",
              "      <td>The Prodigy</td>\n",
              "      <td>225.09669</td>\n",
              "      <td>0.638614</td>\n",
              "      <td>0.601436</td>\n",
              "      <td>1996</td>\n",
              "      <td>3127217</td>\n",
              "      <td>6507</td>\n",
              "      <td>6507</td>\n",
              "      <td>0.0</td>\n",
              "      <td>0</td>\n",
              "    </tr>\n",
              "    <tr>\n",
              "      <th>130</th>\n",
              "      <td>0.1963</td>\n",
              "      <td>0.4673</td>\n",
              "      <td>0.0000</td>\n",
              "      <td>0.0</td>\n",
              "      <td>0.0000</td>\n",
              "      <td>0.3190</td>\n",
              "      <td>0.0000</td>\n",
              "      <td>0.0000</td>\n",
              "      <td>0.0000</td>\n",
              "      <td>0.0163</td>\n",
              "      <td>love love know know know like like like like l...</td>\n",
              "      <td>TRBKFKL128E078ED76</td>\n",
              "      <td>3e154f655302a515efe03d9269f0843a012d60a2</td>\n",
              "      <td>Hailie's Song</td>\n",
              "      <td>SOPCTBB12AF72A1B64</td>\n",
              "      <td>The Eminem Show</td>\n",
              "      <td>ARTH9041187FB43E1F</td>\n",
              "      <td>b95ce3ff-3d05-4e87-9e01-c97b66af13d4</td>\n",
              "      <td>Eminem</td>\n",
              "      <td>320.83546</td>\n",
              "      <td>0.871011</td>\n",
              "      <td>0.804830</td>\n",
              "      <td>2002</td>\n",
              "      <td>148227</td>\n",
              "      <td>-1</td>\n",
              "      <td>0</td>\n",
              "      <td>0.0</td>\n",
              "      <td>0</td>\n",
              "    </tr>\n",
              "    <tr>\n",
              "      <th>...</th>\n",
              "      <td>...</td>\n",
              "      <td>...</td>\n",
              "      <td>...</td>\n",
              "      <td>...</td>\n",
              "      <td>...</td>\n",
              "      <td>...</td>\n",
              "      <td>...</td>\n",
              "      <td>...</td>\n",
              "      <td>...</td>\n",
              "      <td>...</td>\n",
              "      <td>...</td>\n",
              "      <td>...</td>\n",
              "      <td>...</td>\n",
              "      <td>...</td>\n",
              "      <td>...</td>\n",
              "      <td>...</td>\n",
              "      <td>...</td>\n",
              "      <td>...</td>\n",
              "      <td>...</td>\n",
              "      <td>...</td>\n",
              "      <td>...</td>\n",
              "      <td>...</td>\n",
              "      <td>...</td>\n",
              "      <td>...</td>\n",
              "      <td>...</td>\n",
              "      <td>...</td>\n",
              "      <td>...</td>\n",
              "      <td>...</td>\n",
              "    </tr>\n",
              "    <tr>\n",
              "      <th>2734</th>\n",
              "      <td>0.0247</td>\n",
              "      <td>0.0000</td>\n",
              "      <td>0.0000</td>\n",
              "      <td>0.0</td>\n",
              "      <td>0.1076</td>\n",
              "      <td>0.0000</td>\n",
              "      <td>0.0000</td>\n",
              "      <td>0.0000</td>\n",
              "      <td>0.0635</td>\n",
              "      <td>0.8016</td>\n",
              "      <td>love love love love know know go go go go go g...</td>\n",
              "      <td>TRZAVEC12903CD2DD2</td>\n",
              "      <td>3e154f655302a515efe03d9269f0843a012d60a2</td>\n",
              "      <td>Up</td>\n",
              "      <td>SOJUXGA12AC961885C</td>\n",
              "      <td>My Worlds</td>\n",
              "      <td>ARFCWSZ123526A0AFD</td>\n",
              "      <td>e0140a67-e4d1-4f13-8a01-364355bee46e</td>\n",
              "      <td>Justin Bieber</td>\n",
              "      <td>234.91873</td>\n",
              "      <td>0.839406</td>\n",
              "      <td>0.691249</td>\n",
              "      <td>2010</td>\n",
              "      <td>8497972</td>\n",
              "      <td>-1</td>\n",
              "      <td>0</td>\n",
              "      <td>0.0</td>\n",
              "      <td>0</td>\n",
              "    </tr>\n",
              "    <tr>\n",
              "      <th>2765</th>\n",
              "      <td>0.0000</td>\n",
              "      <td>0.0475</td>\n",
              "      <td>0.0000</td>\n",
              "      <td>0.0</td>\n",
              "      <td>0.0000</td>\n",
              "      <td>0.0000</td>\n",
              "      <td>0.0000</td>\n",
              "      <td>0.0730</td>\n",
              "      <td>0.4313</td>\n",
              "      <td>0.4457</td>\n",
              "      <td>love love love love love love love love love l...</td>\n",
              "      <td>TRZEDRT12903CD2DCC</td>\n",
              "      <td>3e154f655302a515efe03d9269f0843a012d60a2</td>\n",
              "      <td>Runaway Love</td>\n",
              "      <td>SODTHOY12AC9071AE7</td>\n",
              "      <td>My Worlds</td>\n",
              "      <td>ARFCWSZ123526A0AFD</td>\n",
              "      <td>e0140a67-e4d1-4f13-8a01-364355bee46e</td>\n",
              "      <td>Justin Bieber</td>\n",
              "      <td>212.53179</td>\n",
              "      <td>0.839406</td>\n",
              "      <td>0.691249</td>\n",
              "      <td>2010</td>\n",
              "      <td>8497966</td>\n",
              "      <td>-1</td>\n",
              "      <td>0</td>\n",
              "      <td>0.0</td>\n",
              "      <td>0</td>\n",
              "    </tr>\n",
              "    <tr>\n",
              "      <th>2796</th>\n",
              "      <td>0.5562</td>\n",
              "      <td>0.0974</td>\n",
              "      <td>0.0000</td>\n",
              "      <td>0.0</td>\n",
              "      <td>0.0000</td>\n",
              "      <td>0.0573</td>\n",
              "      <td>0.0375</td>\n",
              "      <td>0.0876</td>\n",
              "      <td>0.0000</td>\n",
              "      <td>0.1624</td>\n",
              "      <td>know know go one get get get get see let let l...</td>\n",
              "      <td>TRZGABY128F1462E00</td>\n",
              "      <td>3e154f655302a515efe03d9269f0843a012d60a2</td>\n",
              "      <td>Ocean Avenue</td>\n",
              "      <td>SOKQZYZ12A58A7767E</td>\n",
              "      <td>Ocean Avenue</td>\n",
              "      <td>AR048JZ1187B9AEB85</td>\n",
              "      <td>3630fff3-52fc-4e97-ab01-d68fd88e4135</td>\n",
              "      <td>Yellowcard</td>\n",
              "      <td>198.32118</td>\n",
              "      <td>0.872934</td>\n",
              "      <td>0.627467</td>\n",
              "      <td>2003</td>\n",
              "      <td>285605</td>\n",
              "      <td>-1</td>\n",
              "      <td>0</td>\n",
              "      <td>0.0</td>\n",
              "      <td>0</td>\n",
              "    </tr>\n",
              "    <tr>\n",
              "      <th>2827</th>\n",
              "      <td>0.0221</td>\n",
              "      <td>0.0000</td>\n",
              "      <td>0.0103</td>\n",
              "      <td>0.0</td>\n",
              "      <td>0.8201</td>\n",
              "      <td>0.1302</td>\n",
              "      <td>0.0000</td>\n",
              "      <td>0.0000</td>\n",
              "      <td>0.0000</td>\n",
              "      <td>0.0163</td>\n",
              "      <td>know know know like time time time go go oh oh...</td>\n",
              "      <td>TRZJNOD128F4264131</td>\n",
              "      <td>3e154f655302a515efe03d9269f0843a012d60a2</td>\n",
              "      <td>Paradise City</td>\n",
              "      <td>SOQGVCS12AF72A078D</td>\n",
              "      <td>Greatest Hits</td>\n",
              "      <td>ARM7EDF1187B9B3FA1</td>\n",
              "      <td>eeb1195b-f213-4ce1-b28c-8565211f8e43</td>\n",
              "      <td>Guns N' Roses</td>\n",
              "      <td>406.17751</td>\n",
              "      <td>0.844085</td>\n",
              "      <td>0.713670</td>\n",
              "      <td>1987</td>\n",
              "      <td>2234320</td>\n",
              "      <td>12880</td>\n",
              "      <td>12880</td>\n",
              "      <td>0.0</td>\n",
              "      <td>0</td>\n",
              "    </tr>\n",
              "    <tr>\n",
              "      <th>2858</th>\n",
              "      <td>0.7489</td>\n",
              "      <td>0.0407</td>\n",
              "      <td>0.0000</td>\n",
              "      <td>0.0</td>\n",
              "      <td>0.0000</td>\n",
              "      <td>0.1054</td>\n",
              "      <td>0.0000</td>\n",
              "      <td>0.0780</td>\n",
              "      <td>0.0255</td>\n",
              "      <td>0.0000</td>\n",
              "      <td>know like like time come come come come come c...</td>\n",
              "      <td>TRZXIRJ128E0781337</td>\n",
              "      <td>3e154f655302a515efe03d9269f0843a012d60a2</td>\n",
              "      <td>Clint Eastwood (Ed Case/Sweetie Irie Refix) (E...</td>\n",
              "      <td>SOKKUJN12A63110824</td>\n",
              "      <td>Gorillaz</td>\n",
              "      <td>ARAXU5Z1187B98FECD</td>\n",
              "      <td>e21857d5-3256-4547-afb3-4b6ded592596</td>\n",
              "      <td>Gorillaz</td>\n",
              "      <td>223.73832</td>\n",
              "      <td>0.775086</td>\n",
              "      <td>0.605191</td>\n",
              "      <td>2001</td>\n",
              "      <td>4942</td>\n",
              "      <td>-1</td>\n",
              "      <td>0</td>\n",
              "      <td>0.0</td>\n",
              "      <td>0</td>\n",
              "    </tr>\n",
              "  </tbody>\n",
              "</table>\n",
              "<p>93 rows × 28 columns</p>\n",
              "</div>"
            ],
            "text/plain": [
              "      Topic_0  Topic_1  Topic_2  Topic_3  ...  shs_perf  shs_work  freq_song  status\n",
              "6      0.0000   0.0000   0.7917      0.0  ...        -1         0        0.0       0\n",
              "37     0.0000   0.0000   0.0000      0.0  ...        -1         0        3.0       1\n",
              "68     0.0000   0.0000   0.0000      0.0  ...        -1         0        0.0       0\n",
              "99     0.0000   0.0000   0.0000      0.0  ...      6507      6507        0.0       0\n",
              "130    0.1963   0.4673   0.0000      0.0  ...        -1         0        0.0       0\n",
              "...       ...      ...      ...      ...  ...       ...       ...        ...     ...\n",
              "2734   0.0247   0.0000   0.0000      0.0  ...        -1         0        0.0       0\n",
              "2765   0.0000   0.0475   0.0000      0.0  ...        -1         0        0.0       0\n",
              "2796   0.5562   0.0974   0.0000      0.0  ...        -1         0        0.0       0\n",
              "2827   0.0221   0.0000   0.0103      0.0  ...     12880     12880        0.0       0\n",
              "2858   0.7489   0.0407   0.0000      0.0  ...        -1         0        0.0       0\n",
              "\n",
              "[93 rows x 28 columns]"
            ]
          },
          "metadata": {
            "tags": []
          },
          "execution_count": 94
        }
      ]
    },
    {
      "cell_type": "code",
      "metadata": {
        "id": "2GOA0eieyXBZ",
        "colab_type": "code",
        "colab": {
          "base_uri": "https://localhost:8080/",
          "height": 67
        },
        "outputId": "e1f5d708-d064-4622-be93-7cc73d0bdd5b"
      },
      "source": [
        "df_final_hidden[df_final_hidden.user_id=='206bd0676fe110325996506f393538fbf422549e']['status'].value_counts()"
      ],
      "execution_count": null,
      "outputs": [
        {
          "output_type": "execute_result",
          "data": {
            "text/plain": [
              "0    76\n",
              "1     4\n",
              "Name: status, dtype: int64"
            ]
          },
          "metadata": {
            "tags": []
          },
          "execution_count": 95
        }
      ]
    },
    {
      "cell_type": "code",
      "metadata": {
        "id": "zvMWsXxwA7Dd",
        "colab_type": "code",
        "colab": {}
      },
      "source": [
        ""
      ],
      "execution_count": null,
      "outputs": []
    }
  ]
}